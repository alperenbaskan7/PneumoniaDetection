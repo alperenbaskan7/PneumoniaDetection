{
  "nbformat": 4,
  "nbformat_minor": 0,
  "metadata": {
    "colab": {
      "name": "Pneumonia Detection with CNN v1.0.ipynb ",
      "provenance": [],
      "collapsed_sections": []
    },
    "kernelspec": {
      "display_name": "Python 3",
      "name": "python3"
    },
    "accelerator": "GPU"
  },
  "cells": [
    {
      "cell_type": "code",
      "metadata": {
        "id": "93HJxByYPKl3"
      },
      "source": [
        "TRAIN_PATH = \"/content/drive/MyDrive/dataset/training\"\n",
        "VAL_PATH = \"/content/drive/MyDrive/dataset/validation\"\n",
        "#1.0 includes re-evaluating steps_per_epoch parameter"
      ],
      "execution_count": null,
      "outputs": []
    },
    {
      "cell_type": "code",
      "metadata": {
        "id": "Lr2EjsJQPKpI"
      },
      "source": [
        "import numpy as np\n",
        "import matplotlib.pyplot as plt\n",
        "import keras\n",
        "from keras.layers import *\n",
        "from keras.preprocessing import image\n",
        "from keras.models import Sequential"
      ],
      "execution_count": null,
      "outputs": []
    },
    {
      "cell_type": "code",
      "metadata": {
        "id": "x6fnpAN5PKrb"
      },
      "source": [
        "model = Sequential()\n",
        "model.add(Conv2D(64, kernel_size= (3,3), activation='relu', input_shape=(256, 256, 3))) #32\n",
        "model.add(Conv2D(128, (3,3), activation='relu')) #64\n",
        "model.add(MaxPooling2D(pool_size= (2,2)))\n",
        "#model.add(Dropout(0.25))\n",
        "\n",
        "\n",
        "model.add(Conv2D(128, (3,3), activation='relu')) #64\n",
        "model.add(MaxPooling2D(pool_size= (2,2)))\n",
        "#model.add(Dropout(0.25))\n",
        "\n",
        "\n",
        "model.add(Conv2D(256, (3,3), activation='relu')) #128\n",
        "model.add(MaxPooling2D(pool_size= (2,2)))\n",
        "#model.add(Dropout(0.25))\n",
        "\n",
        "\n",
        "model.add(Flatten())\n",
        "model.add(Dense(128, activation='relu')) #64\n",
        "#model.add(Dropout(0.25))\n",
        "model.add(Dense(3, activation='softmax'))\n",
        "\n",
        "model.compile(loss= 'categorical_crossentropy', optimizer='adam', metrics = ['accuracy'])\n"
      ],
      "execution_count": null,
      "outputs": []
    },
    {
      "cell_type": "code",
      "metadata": {
        "colab": {
          "base_uri": "https://localhost:8080/"
        },
        "id": "RRjQobBSPKvO",
        "outputId": "63b2dabd-43b5-473a-e16e-549fa387331f"
      },
      "source": [
        "model.summary()"
      ],
      "execution_count": null,
      "outputs": [
        {
          "output_type": "stream",
          "text": [
            "Model: \"sequential\"\n",
            "_________________________________________________________________\n",
            "Layer (type)                 Output Shape              Param #   \n",
            "=================================================================\n",
            "conv2d (Conv2D)              (None, 254, 254, 64)      1792      \n",
            "_________________________________________________________________\n",
            "conv2d_1 (Conv2D)            (None, 252, 252, 128)     73856     \n",
            "_________________________________________________________________\n",
            "max_pooling2d (MaxPooling2D) (None, 126, 126, 128)     0         \n",
            "_________________________________________________________________\n",
            "conv2d_2 (Conv2D)            (None, 124, 124, 128)     147584    \n",
            "_________________________________________________________________\n",
            "max_pooling2d_1 (MaxPooling2 (None, 62, 62, 128)       0         \n",
            "_________________________________________________________________\n",
            "conv2d_3 (Conv2D)            (None, 60, 60, 256)       295168    \n",
            "_________________________________________________________________\n",
            "max_pooling2d_2 (MaxPooling2 (None, 30, 30, 256)       0         \n",
            "_________________________________________________________________\n",
            "flatten (Flatten)            (None, 230400)            0         \n",
            "_________________________________________________________________\n",
            "dense (Dense)                (None, 128)               29491328  \n",
            "_________________________________________________________________\n",
            "dense_1 (Dense)              (None, 3)                 387       \n",
            "=================================================================\n",
            "Total params: 30,010,115\n",
            "Trainable params: 30,010,115\n",
            "Non-trainable params: 0\n",
            "_________________________________________________________________\n"
          ],
          "name": "stdout"
        }
      ]
    },
    {
      "cell_type": "code",
      "metadata": {
        "id": "garelerOPKxf"
      },
      "source": [
        "train_datagen = image.ImageDataGenerator(\n",
        "      rescale=1./255,\n",
        "      shear_range=0.1, #0.2\n",
        "      zoom_range=0.1, #0.2\n",
        "      horizontal_flip=True,\n",
        "      )\n",
        "test_dataset = image.ImageDataGenerator(rescale=1./255)"
      ],
      "execution_count": null,
      "outputs": []
    },
    {
      "cell_type": "code",
      "metadata": {
        "colab": {
          "base_uri": "https://localhost:8080/"
        },
        "id": "_7_M0qfn2GL9",
        "outputId": "bdfa91ef-bc83-40c6-ff69-3dd6e9f99b67"
      },
      "source": [
        "train_generator = train_datagen.flow_from_directory(\n",
        "    '/content/drive/MyDrive/dataset/training/',\n",
        "    target_size = (256,256),\n",
        "    color_mode = 'rgb',\n",
        "    batch_size = 32, \n",
        "    class_mode= 'categorical'\n",
        ")"
      ],
      "execution_count": null,
      "outputs": [
        {
          "output_type": "stream",
          "text": [
            "Found 2279 images belonging to 3 classes.\n"
          ],
          "name": "stdout"
        }
      ]
    },
    {
      "cell_type": "code",
      "metadata": {
        "colab": {
          "base_uri": "https://localhost:8080/"
        },
        "id": "-GJCZhnNwLXf",
        "outputId": "b2ab7a8f-0d1d-446d-9fa6-cb2b204e121b"
      },
      "source": [
        "train_generator.class_indices"
      ],
      "execution_count": null,
      "outputs": [
        {
          "output_type": "execute_result",
          "data": {
            "text/plain": [
              "{'covid': 0, 'normal': 1, 'viral': 2}"
            ]
          },
          "metadata": {
            "tags": []
          },
          "execution_count": 6
        }
      ]
    },
    {
      "cell_type": "code",
      "metadata": {
        "colab": {
          "base_uri": "https://localhost:8080/"
        },
        "id": "goaMYT-29AJQ",
        "outputId": "9d0239ef-d207-4c77-cd62-f504fe741909"
      },
      "source": [
        "validation_generator = test_dataset.flow_from_directory(\n",
        "    '/content/drive/MyDrive/dataset/validation/',\n",
        "    target_size = (256,256),\n",
        "    batch_size = 32, \n",
        "    class_mode = 'categorical'\n",
        ")"
      ],
      "execution_count": null,
      "outputs": [
        {
          "output_type": "stream",
          "text": [
            "Found 569 images belonging to 3 classes.\n"
          ],
          "name": "stdout"
        }
      ]
    },
    {
      "cell_type": "code",
      "metadata": {
        "colab": {
          "base_uri": "https://localhost:8080/"
        },
        "id": "Wc8PqflaCJNp",
        "outputId": "f392211c-36e3-41ef-9a0b-bc29acab2b1b"
      },
      "source": [
        "hist = model.fit(\n",
        "    train_generator,\n",
        "    steps_per_epoch = 70,  \n",
        "    epochs = 30, #10 \n",
        "    validation_data = validation_generator,\n",
        "    validation_steps =2\n",
        ")"
      ],
      "execution_count": null,
      "outputs": [
        {
          "output_type": "stream",
          "text": [
            "Epoch 1/30\n",
            "70/70 [==============================] - 1622s 23s/step - loss: 1.3096 - accuracy: 0.5342 - val_loss: 0.3285 - val_accuracy: 0.8594\n",
            "Epoch 2/30\n",
            "70/70 [==============================] - 110s 2s/step - loss: 0.4374 - accuracy: 0.8066 - val_loss: 0.3473 - val_accuracy: 0.8594\n",
            "Epoch 3/30\n",
            "70/70 [==============================] - 86s 1s/step - loss: 0.2809 - accuracy: 0.8978 - val_loss: 0.2813 - val_accuracy: 0.9062\n",
            "Epoch 4/30\n",
            "70/70 [==============================] - 76s 1s/step - loss: 0.2272 - accuracy: 0.9254 - val_loss: 0.3010 - val_accuracy: 0.8906\n",
            "Epoch 5/30\n",
            "70/70 [==============================] - 67s 956ms/step - loss: 0.2417 - accuracy: 0.9156 - val_loss: 0.2712 - val_accuracy: 0.8594\n",
            "Epoch 6/30\n",
            "70/70 [==============================] - 65s 924ms/step - loss: 0.2331 - accuracy: 0.9190 - val_loss: 0.3452 - val_accuracy: 0.8906\n",
            "Epoch 7/30\n",
            "70/70 [==============================] - 57s 816ms/step - loss: 0.1975 - accuracy: 0.9231 - val_loss: 0.1947 - val_accuracy: 0.9844\n",
            "Epoch 8/30\n",
            "70/70 [==============================] - 58s 823ms/step - loss: 0.1992 - accuracy: 0.9315 - val_loss: 0.1733 - val_accuracy: 0.9219\n",
            "Epoch 9/30\n",
            "70/70 [==============================] - 56s 806ms/step - loss: 0.1601 - accuracy: 0.9482 - val_loss: 0.2775 - val_accuracy: 0.9219\n",
            "Epoch 10/30\n",
            "70/70 [==============================] - 51s 722ms/step - loss: 0.1503 - accuracy: 0.9454 - val_loss: 0.2510 - val_accuracy: 0.9219\n",
            "Epoch 11/30\n",
            "70/70 [==============================] - 47s 672ms/step - loss: 0.1153 - accuracy: 0.9622 - val_loss: 0.1837 - val_accuracy: 0.9062\n",
            "Epoch 12/30\n",
            "70/70 [==============================] - 53s 759ms/step - loss: 0.1334 - accuracy: 0.9510 - val_loss: 0.1781 - val_accuracy: 0.9219\n",
            "Epoch 13/30\n",
            "70/70 [==============================] - 46s 654ms/step - loss: 0.1079 - accuracy: 0.9601 - val_loss: 0.5113 - val_accuracy: 0.8906\n",
            "Epoch 14/30\n",
            "70/70 [==============================] - 48s 681ms/step - loss: 0.1326 - accuracy: 0.9578 - val_loss: 0.4018 - val_accuracy: 0.8438\n",
            "Epoch 15/30\n",
            "70/70 [==============================] - 47s 664ms/step - loss: 0.1253 - accuracy: 0.9578 - val_loss: 0.0876 - val_accuracy: 0.9688\n",
            "Epoch 16/30\n",
            "70/70 [==============================] - 42s 598ms/step - loss: 0.1140 - accuracy: 0.9566 - val_loss: 0.2868 - val_accuracy: 0.9531\n",
            "Epoch 17/30\n",
            "70/70 [==============================] - 43s 615ms/step - loss: 0.1265 - accuracy: 0.9499 - val_loss: 0.2517 - val_accuracy: 0.9219\n",
            "Epoch 18/30\n",
            "70/70 [==============================] - 42s 593ms/step - loss: 0.0976 - accuracy: 0.9685 - val_loss: 0.2262 - val_accuracy: 0.9219\n",
            "Epoch 19/30\n",
            "70/70 [==============================] - 41s 589ms/step - loss: 0.1031 - accuracy: 0.9641 - val_loss: 0.3384 - val_accuracy: 0.9531\n",
            "Epoch 20/30\n",
            "70/70 [==============================] - 41s 588ms/step - loss: 0.1533 - accuracy: 0.9414 - val_loss: 0.2642 - val_accuracy: 0.9531\n",
            "Epoch 21/30\n",
            "70/70 [==============================] - 42s 599ms/step - loss: 0.0814 - accuracy: 0.9699 - val_loss: 0.1842 - val_accuracy: 0.9531\n",
            "Epoch 22/30\n",
            "70/70 [==============================] - 41s 582ms/step - loss: 0.0850 - accuracy: 0.9676 - val_loss: 0.2725 - val_accuracy: 0.8906\n",
            "Epoch 23/30\n",
            "70/70 [==============================] - 41s 579ms/step - loss: 0.0719 - accuracy: 0.9755 - val_loss: 0.5346 - val_accuracy: 0.8594\n",
            "Epoch 24/30\n",
            "70/70 [==============================] - 41s 580ms/step - loss: 0.0666 - accuracy: 0.9787 - val_loss: 0.5927 - val_accuracy: 0.9062\n",
            "Epoch 25/30\n",
            "70/70 [==============================] - 42s 591ms/step - loss: 0.0811 - accuracy: 0.9730 - val_loss: 0.4451 - val_accuracy: 0.8750\n",
            "Epoch 26/30\n",
            "70/70 [==============================] - 41s 579ms/step - loss: 0.0554 - accuracy: 0.9841 - val_loss: 0.2177 - val_accuracy: 0.8906\n",
            "Epoch 27/30\n",
            "70/70 [==============================] - 40s 571ms/step - loss: 0.0736 - accuracy: 0.9736 - val_loss: 0.3482 - val_accuracy: 0.9062\n",
            "Epoch 28/30\n",
            "70/70 [==============================] - 40s 572ms/step - loss: 0.0780 - accuracy: 0.9734 - val_loss: 0.1333 - val_accuracy: 0.9375\n",
            "Epoch 29/30\n",
            "70/70 [==============================] - 40s 564ms/step - loss: 0.0889 - accuracy: 0.9624 - val_loss: 0.6148 - val_accuracy: 0.9219\n",
            "Epoch 30/30\n",
            "70/70 [==============================] - 40s 564ms/step - loss: 0.0601 - accuracy: 0.9795 - val_loss: 0.2015 - val_accuracy: 0.9688\n"
          ],
          "name": "stdout"
        }
      ]
    },
    {
      "cell_type": "markdown",
      "metadata": {
        "id": "0QB44ixRzdP3"
      },
      "source": [
        ""
      ]
    },
    {
      "cell_type": "code",
      "metadata": {
        "colab": {
          "base_uri": "https://localhost:8080/",
          "height": 562
        },
        "id": "qSDiRLg-sSP1",
        "outputId": "8c500dea-e5fc-496f-bf11-215c4909f350"
      },
      "source": [
        "acc = hist.history['accuracy']\n",
        "val_acc = hist.history['val_accuracy']\n",
        "loss = hist.history['loss']\n",
        "val_loss = hist.history['val_loss']\n",
        "epochs = range(1, len(acc) + 1)\n",
        "\n",
        "plt.plot(epochs, acc, 'bo', label='Training accuracy')\n",
        "plt.plot(epochs, val_acc, 'b', label='Validation accuracy')\n",
        "plt.title('Training and Validation Accuracy')\n",
        "plt.legend()\n",
        "\n",
        "plt.figure()\n",
        "\n",
        "plt.plot(epochs, loss, 'bo', label='Training loss')\n",
        "plt.plot(epochs, val_loss, 'b', label='Validation loss')\n",
        "plt.title('Training and Validation loss')\n",
        "plt.legend()"
      ],
      "execution_count": null,
      "outputs": [
        {
          "output_type": "execute_result",
          "data": {
            "text/plain": [
              "<matplotlib.legend.Legend at 0x7f2a0e120080>"
            ]
          },
          "metadata": {
            "tags": []
          },
          "execution_count": 9
        },
        {
          "output_type": "display_data",
          "data": {
            "image/png": "[encoded data removed]",
            "text/plain": [
              "<Figure size 432x288 with 1 Axes>"
            ]
          },
          "metadata": {
            "tags": [],
            "needs_background": "light"
          }
        },
        {
          "output_type": "display_data",
          "data": {
            "image/png": "[encoded data removed]",
            "text/plain": [
              "<Figure size 432x288 with 1 Axes>"
            ]
          },
          "metadata": {
            "tags": [],
            "needs_background": "light"
          }
        }
      ]
    }
  ]
}