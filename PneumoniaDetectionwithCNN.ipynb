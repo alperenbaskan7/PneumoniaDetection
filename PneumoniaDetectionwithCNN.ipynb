{
  "nbformat": 4,
  "nbformat_minor": 0,
  "metadata": {
    "colab": {
      "name": "PneumoniaDetectionwithCNN-confusion-matrix.ipynb  adlı not defterinin kopyası",
      "provenance": [],
      "collapsed_sections": []
    },
    "kernelspec": {
      "name": "python3",
      "display_name": "Python 3"
    },
    "language_info": {
      "name": "python"
    },
    "accelerator": "GPU"
  },
  "cells": [
    {
      "cell_type": "code",
      "metadata": {
        "id": "LseMdfP9uh8d"
      },
      "source": [
        "import numpy as np\n",
        "import matplotlib.pyplot as plt\n",
        "import keras\n",
        "from keras.layers import *\n",
        "from keras.preprocessing import image\n",
        "from keras.models import Sequential\n",
        "from keras.optimizers import SGD\n"
      ],
      "execution_count": null,
      "outputs": []
    },
    {
      "cell_type": "code",
      "metadata": {
        "id": "5B_tI-47BZMo",
        "colab": {
          "base_uri": "https://localhost:8080/"
        },
        "outputId": "15d19c60-f17a-420d-fb9c-ea829e5032cd"
      },
      "source": [
        "# convolution, dropout and max pool. layers added\n",
        "opt = SGD(learning_rate = 0.001)\n",
        "model = Sequential()\n",
        "model.add(Conv2D(32, (3, 3), input_shape=(256, 256, 3),padding = 'same'))\n",
        "model.add(Activation('relu'))\n",
        "model.add(MaxPooling2D(pool_size=(2, 2)))\n",
        "\n",
        "model.add(Conv2D(64, (3, 3),padding = 'same'))\n",
        "model.add(Activation('relu'))\n",
        "model.add(MaxPooling2D(pool_size=(2, 2)))\n",
        "\n",
        "model.add(Conv2D(128, (3, 3),padding = 'same'))\n",
        "model.add(Activation('relu'))\n",
        "model.add(MaxPooling2D(pool_size=(2, 2)))\n",
        "\n",
        "model.add(Conv2D(256, (3, 3),padding = 'same'))\n",
        "model.add(Activation('relu'))\n",
        "model.add(MaxPooling2D(pool_size=(2, 2)))\n",
        "\n",
        "from keras import regularizers\n",
        "\n",
        "model.add(Flatten())\n",
        "model.add(Dropout(0.5))\n",
        "model.add(Dense(512,kernel_regularizer=regularizers.l2(1e-4)))\n",
        "model.add(Activation('relu'))\n",
        "model.add(Dropout(0.5))\n",
        "# the final classification is done via fully connected layers\n",
        "model.add(Dense(3))\n",
        "model.add(Activation('softmax'))\n",
        "model.summary()\n",
        "# categorical crossentropy is used since there are 3 classes\n",
        "model.compile(loss = 'categorical_crossentropy',\n",
        "              optimizer = 'Adam',\n",
        "              metrics = ['accuracy'])\n",
        "\n",
        "\n"
      ],
      "execution_count": null,
      "outputs": [
        {
          "output_type": "stream",
          "text": [
            "Model: \"sequential\"\n",
            "_________________________________________________________________\n",
            "Layer (type)                 Output Shape              Param #   \n",
            "=================================================================\n",
            "conv2d (Conv2D)              (None, 256, 256, 32)      896       \n",
            "_________________________________________________________________\n",
            "activation (Activation)      (None, 256, 256, 32)      0         \n",
            "_________________________________________________________________\n",
            "max_pooling2d (MaxPooling2D) (None, 128, 128, 32)      0         \n",
            "_________________________________________________________________\n",
            "conv2d_1 (Conv2D)            (None, 128, 128, 64)      18496     \n",
            "_________________________________________________________________\n",
            "activation_1 (Activation)    (None, 128, 128, 64)      0         \n",
            "_________________________________________________________________\n",
            "max_pooling2d_1 (MaxPooling2 (None, 64, 64, 64)        0         \n",
            "_________________________________________________________________\n",
            "conv2d_2 (Conv2D)            (None, 64, 64, 128)       73856     \n",
            "_________________________________________________________________\n",
            "activation_2 (Activation)    (None, 64, 64, 128)       0         \n",
            "_________________________________________________________________\n",
            "max_pooling2d_2 (MaxPooling2 (None, 32, 32, 128)       0         \n",
            "_________________________________________________________________\n",
            "conv2d_3 (Conv2D)            (None, 32, 32, 256)       295168    \n",
            "_________________________________________________________________\n",
            "activation_3 (Activation)    (None, 32, 32, 256)       0         \n",
            "_________________________________________________________________\n",
            "max_pooling2d_3 (MaxPooling2 (None, 16, 16, 256)       0         \n",
            "_________________________________________________________________\n",
            "flatten (Flatten)            (None, 65536)             0         \n",
            "_________________________________________________________________\n",
            "dropout (Dropout)            (None, 65536)             0         \n",
            "_________________________________________________________________\n",
            "dense (Dense)                (None, 512)               33554944  \n",
            "_________________________________________________________________\n",
            "activation_4 (Activation)    (None, 512)               0         \n",
            "_________________________________________________________________\n",
            "dropout_1 (Dropout)          (None, 512)               0         \n",
            "_________________________________________________________________\n",
            "dense_1 (Dense)              (None, 3)                 1539      \n",
            "_________________________________________________________________\n",
            "activation_5 (Activation)    (None, 3)                 0         \n",
            "=================================================================\n",
            "Total params: 33,944,899\n",
            "Trainable params: 33,944,899\n",
            "Non-trainable params: 0\n",
            "_________________________________________________________________\n"
          ],
          "name": "stdout"
        }
      ]
    },
    {
      "cell_type": "code",
      "metadata": {
        "id": "9exTJpCNDbCl"
      },
      "source": [
        "# image preprocessing and augmentation\n",
        "train_datagen = image.ImageDataGenerator(\n",
        "      rescale=1./256,\n",
        "      shear_range=0.1, #0.2\n",
        "      zoom_range=0.1, #0.2\n",
        "      horizontal_flip=True,\n",
        "      )\n",
        "test_dataset = image.ImageDataGenerator(rescale=1./256)"
      ],
      "execution_count": null,
      "outputs": []
    },
    {
      "cell_type": "code",
      "metadata": {
        "id": "omdEjJ9uDhNE",
        "colab": {
          "base_uri": "https://localhost:8080/"
        },
        "outputId": "f25baa31-d125-4858-ae5e-9be741b57ef6"
      },
      "source": [
        "#Take the path to a directory\n",
        "train_generator = train_datagen.flow_from_directory(\n",
        "    '/content/drive/MyDrive/dataset-xgboost/training',\n",
        "    target_size = (256,256),\n",
        "    color_mode = 'rgb',\n",
        "    batch_size = 32, \n",
        "    class_mode= 'categorical'\n",
        ")"
      ],
      "execution_count": null,
      "outputs": [
        {
          "output_type": "stream",
          "text": [
            "Found 1263 images belonging to 3 classes.\n"
          ],
          "name": "stdout"
        }
      ]
    },
    {
      "cell_type": "code",
      "metadata": {
        "id": "eNKzNm1NDjld",
        "colab": {
          "base_uri": "https://localhost:8080/"
        },
        "outputId": "00b3c67a-ad4b-4849-d02d-d323e29e412b"
      },
      "source": [
        "train_generator.class_indices"
      ],
      "execution_count": null,
      "outputs": [
        {
          "output_type": "execute_result",
          "data": {
            "text/plain": [
              "{'covid': 0, 'normal': 1, 'pneumonia': 2}"
            ]
          },
          "metadata": {
            "tags": []
          },
          "execution_count": 5
        }
      ]
    },
    {
      "cell_type": "code",
      "metadata": {
        "id": "m1-oTCkfDlJG",
        "colab": {
          "base_uri": "https://localhost:8080/"
        },
        "outputId": "519cbda5-ed21-43e0-8a79-6da2964950a5"
      },
      "source": [
        "# take validation path to a directory\n",
        "validation_generator = test_dataset.flow_from_directory(\n",
        "    '/content/drive/MyDrive/dataset-xgboost/validation',\n",
        "    target_size = (256,256),\n",
        "    batch_size = 32, \n",
        "    class_mode = 'categorical',\n",
        "    shuffle = False\n",
        ")\n",
        "\n",
        "\n",
        "STEP_SIZE_TRAIN=train_generator.n//train_generator.batch_size\n",
        "STEP_SIZE_VALID=validation_generator.n//validation_generator.batch_size\n",
        "\n",
        "#Configure the model for training\n",
        "history = model.fit(train_generator,\n",
        "                    steps_per_epoch=40, \n",
        "                    validation_data=validation_generator,\n",
        "                    validation_steps=2, \n",
        "                    epochs=100,\n",
        "         )\n"
      ],
      "execution_count": null,
      "outputs": [
        {
          "output_type": "stream",
          "text": [
            "Found 464 images belonging to 3 classes.\n",
            "Epoch 1/100\n",
            "40/40 [==============================] - 528s 12s/step - loss: 1.8210 - accuracy: 0.4704 - val_loss: 0.5366 - val_accuracy: 0.8594\n",
            "Epoch 2/100\n",
            "40/40 [==============================] - 20s 488ms/step - loss: 0.7335 - accuracy: 0.7304 - val_loss: 0.5403 - val_accuracy: 0.9062\n",
            "Epoch 3/100\n",
            "40/40 [==============================] - 20s 487ms/step - loss: 0.5846 - accuracy: 0.8214 - val_loss: 0.6942 - val_accuracy: 0.8438\n",
            "Epoch 4/100\n",
            "40/40 [==============================] - 20s 489ms/step - loss: 0.5355 - accuracy: 0.8240 - val_loss: 0.4630 - val_accuracy: 0.9062\n",
            "Epoch 5/100\n",
            "40/40 [==============================] - 20s 487ms/step - loss: 0.4909 - accuracy: 0.8670 - val_loss: 0.6918 - val_accuracy: 0.7969\n",
            "Epoch 6/100\n",
            "40/40 [==============================] - 20s 493ms/step - loss: 0.4182 - accuracy: 0.8861 - val_loss: 0.5126 - val_accuracy: 0.8438\n",
            "Epoch 7/100\n",
            "40/40 [==============================] - 19s 481ms/step - loss: 0.4082 - accuracy: 0.8793 - val_loss: 0.5996 - val_accuracy: 0.8125\n",
            "Epoch 8/100\n",
            "40/40 [==============================] - 19s 479ms/step - loss: 0.3942 - accuracy: 0.8911 - val_loss: 0.3180 - val_accuracy: 0.9219\n",
            "Epoch 9/100\n",
            "40/40 [==============================] - 19s 480ms/step - loss: 0.3529 - accuracy: 0.9045 - val_loss: 0.4367 - val_accuracy: 0.8750\n",
            "Epoch 10/100\n",
            "40/40 [==============================] - 19s 479ms/step - loss: 0.3863 - accuracy: 0.8863 - val_loss: 0.4791 - val_accuracy: 0.9062\n",
            "Epoch 11/100\n",
            "40/40 [==============================] - 19s 485ms/step - loss: 0.3663 - accuracy: 0.9023 - val_loss: 0.3556 - val_accuracy: 0.9219\n",
            "Epoch 12/100\n",
            "40/40 [==============================] - 19s 489ms/step - loss: 0.3953 - accuracy: 0.8870 - val_loss: 0.4611 - val_accuracy: 0.9062\n",
            "Epoch 13/100\n",
            "40/40 [==============================] - 19s 474ms/step - loss: 0.3700 - accuracy: 0.9057 - val_loss: 0.5373 - val_accuracy: 0.8594\n",
            "Epoch 14/100\n",
            "40/40 [==============================] - 19s 478ms/step - loss: 0.2998 - accuracy: 0.9237 - val_loss: 0.5164 - val_accuracy: 0.8438\n",
            "Epoch 15/100\n",
            "40/40 [==============================] - 19s 475ms/step - loss: 0.3411 - accuracy: 0.9125 - val_loss: 0.4405 - val_accuracy: 0.9062\n",
            "Epoch 16/100\n",
            "40/40 [==============================] - 19s 476ms/step - loss: 0.3289 - accuracy: 0.9156 - val_loss: 0.5621 - val_accuracy: 0.9062\n",
            "Epoch 17/100\n",
            "40/40 [==============================] - 19s 480ms/step - loss: 0.3014 - accuracy: 0.9250 - val_loss: 0.2427 - val_accuracy: 0.9375\n",
            "Epoch 18/100\n",
            "40/40 [==============================] - 20s 490ms/step - loss: 0.3127 - accuracy: 0.9212 - val_loss: 0.6097 - val_accuracy: 0.8750\n",
            "Epoch 19/100\n",
            "40/40 [==============================] - 20s 501ms/step - loss: 0.3141 - accuracy: 0.9281 - val_loss: 0.5604 - val_accuracy: 0.8125\n",
            "Epoch 20/100\n",
            "40/40 [==============================] - 20s 493ms/step - loss: 0.2951 - accuracy: 0.9309 - val_loss: 0.3655 - val_accuracy: 0.9219\n",
            "Epoch 21/100\n",
            "40/40 [==============================] - 19s 477ms/step - loss: 0.3023 - accuracy: 0.9260 - val_loss: 0.3960 - val_accuracy: 0.9062\n",
            "Epoch 22/100\n",
            "40/40 [==============================] - 19s 480ms/step - loss: 0.2794 - accuracy: 0.9316 - val_loss: 0.4864 - val_accuracy: 0.8906\n",
            "Epoch 23/100\n",
            "40/40 [==============================] - 19s 476ms/step - loss: 0.2842 - accuracy: 0.9362 - val_loss: 0.6046 - val_accuracy: 0.8906\n",
            "Epoch 24/100\n",
            "40/40 [==============================] - 19s 482ms/step - loss: 0.2461 - accuracy: 0.9598 - val_loss: 0.4500 - val_accuracy: 0.9219\n",
            "Epoch 25/100\n",
            "40/40 [==============================] - 19s 475ms/step - loss: 0.2987 - accuracy: 0.9352 - val_loss: 0.3563 - val_accuracy: 0.9219\n",
            "Epoch 26/100\n",
            "40/40 [==============================] - 19s 478ms/step - loss: 0.2538 - accuracy: 0.9448 - val_loss: 0.4342 - val_accuracy: 0.9062\n",
            "Epoch 27/100\n",
            "40/40 [==============================] - 19s 485ms/step - loss: 0.2765 - accuracy: 0.9486 - val_loss: 0.3364 - val_accuracy: 0.9219\n",
            "Epoch 28/100\n",
            "40/40 [==============================] - 20s 491ms/step - loss: 0.2462 - accuracy: 0.9566 - val_loss: 0.3179 - val_accuracy: 0.9219\n",
            "Epoch 29/100\n",
            "40/40 [==============================] - 19s 484ms/step - loss: 0.2599 - accuracy: 0.9450 - val_loss: 0.5386 - val_accuracy: 0.8750\n",
            "Epoch 30/100\n",
            "40/40 [==============================] - 19s 476ms/step - loss: 0.2676 - accuracy: 0.9445 - val_loss: 0.3576 - val_accuracy: 0.9219\n",
            "Epoch 31/100\n",
            "40/40 [==============================] - 19s 484ms/step - loss: 0.2772 - accuracy: 0.9532 - val_loss: 0.5459 - val_accuracy: 0.8906\n",
            "Epoch 32/100\n",
            "40/40 [==============================] - 19s 477ms/step - loss: 0.3044 - accuracy: 0.9327 - val_loss: 0.3754 - val_accuracy: 0.9062\n",
            "Epoch 33/100\n",
            "40/40 [==============================] - 20s 489ms/step - loss: 0.2555 - accuracy: 0.9542 - val_loss: 0.5621 - val_accuracy: 0.8906\n",
            "Epoch 34/100\n",
            "40/40 [==============================] - 19s 474ms/step - loss: 0.2807 - accuracy: 0.9405 - val_loss: 0.2479 - val_accuracy: 0.9531\n",
            "Epoch 35/100\n",
            "40/40 [==============================] - 20s 492ms/step - loss: 0.2599 - accuracy: 0.9585 - val_loss: 0.3687 - val_accuracy: 0.8750\n",
            "Epoch 36/100\n",
            "40/40 [==============================] - 19s 475ms/step - loss: 0.2850 - accuracy: 0.9422 - val_loss: 0.6469 - val_accuracy: 0.8750\n",
            "Epoch 37/100\n",
            "40/40 [==============================] - 20s 496ms/step - loss: 0.2514 - accuracy: 0.9574 - val_loss: 0.3293 - val_accuracy: 0.9531\n",
            "Epoch 38/100\n",
            "40/40 [==============================] - 19s 477ms/step - loss: 0.2570 - accuracy: 0.9587 - val_loss: 0.3647 - val_accuracy: 0.9375\n",
            "Epoch 39/100\n",
            "40/40 [==============================] - 20s 494ms/step - loss: 0.2392 - accuracy: 0.9541 - val_loss: 0.4079 - val_accuracy: 0.9062\n",
            "Epoch 40/100\n",
            "40/40 [==============================] - 19s 483ms/step - loss: 0.2532 - accuracy: 0.9573 - val_loss: 0.4603 - val_accuracy: 0.9062\n",
            "Epoch 41/100\n",
            "40/40 [==============================] - 19s 483ms/step - loss: 0.2600 - accuracy: 0.9658 - val_loss: 0.5025 - val_accuracy: 0.8906\n",
            "Epoch 42/100\n",
            "40/40 [==============================] - 20s 486ms/step - loss: 0.3101 - accuracy: 0.9396 - val_loss: 0.7164 - val_accuracy: 0.8594\n",
            "Epoch 43/100\n",
            "40/40 [==============================] - 20s 487ms/step - loss: 0.2464 - accuracy: 0.9614 - val_loss: 0.3408 - val_accuracy: 0.8906\n",
            "Epoch 44/100\n",
            "40/40 [==============================] - 19s 481ms/step - loss: 0.2699 - accuracy: 0.9583 - val_loss: 0.4333 - val_accuracy: 0.8906\n",
            "Epoch 45/100\n",
            "40/40 [==============================] - 20s 492ms/step - loss: 0.2525 - accuracy: 0.9566 - val_loss: 0.3865 - val_accuracy: 0.9375\n",
            "Epoch 46/100\n",
            "40/40 [==============================] - 19s 480ms/step - loss: 0.2331 - accuracy: 0.9716 - val_loss: 0.4696 - val_accuracy: 0.9219\n",
            "Epoch 47/100\n",
            "40/40 [==============================] - 20s 496ms/step - loss: 0.2601 - accuracy: 0.9572 - val_loss: 0.2816 - val_accuracy: 0.9375\n",
            "Epoch 48/100\n",
            "40/40 [==============================] - 19s 475ms/step - loss: 0.2939 - accuracy: 0.9525 - val_loss: 0.3148 - val_accuracy: 0.9531\n",
            "Epoch 49/100\n",
            "40/40 [==============================] - 20s 493ms/step - loss: 0.2789 - accuracy: 0.9501 - val_loss: 0.4298 - val_accuracy: 0.9219\n",
            "Epoch 50/100\n",
            "40/40 [==============================] - 19s 473ms/step - loss: 0.2760 - accuracy: 0.9562 - val_loss: 0.6166 - val_accuracy: 0.8906\n",
            "Epoch 51/100\n",
            "40/40 [==============================] - 20s 491ms/step - loss: 0.2670 - accuracy: 0.9596 - val_loss: 0.5930 - val_accuracy: 0.8750\n",
            "Epoch 52/100\n",
            "40/40 [==============================] - 19s 478ms/step - loss: 0.2645 - accuracy: 0.9627 - val_loss: 0.3333 - val_accuracy: 0.9375\n",
            "Epoch 53/100\n",
            "40/40 [==============================] - 19s 474ms/step - loss: 0.2389 - accuracy: 0.9706 - val_loss: 0.3953 - val_accuracy: 0.9219\n",
            "Epoch 54/100\n",
            "40/40 [==============================] - 19s 482ms/step - loss: 0.2496 - accuracy: 0.9648 - val_loss: 0.7830 - val_accuracy: 0.8438\n",
            "Epoch 55/100\n",
            "40/40 [==============================] - 19s 474ms/step - loss: 0.2710 - accuracy: 0.9580 - val_loss: 0.2747 - val_accuracy: 0.9688\n",
            "Epoch 56/100\n",
            "40/40 [==============================] - 19s 468ms/step - loss: 0.2616 - accuracy: 0.9618 - val_loss: 0.6125 - val_accuracy: 0.8594\n",
            "Epoch 57/100\n",
            "40/40 [==============================] - 19s 480ms/step - loss: 0.2496 - accuracy: 0.9683 - val_loss: 0.3455 - val_accuracy: 0.9062\n",
            "Epoch 58/100\n",
            "40/40 [==============================] - 19s 466ms/step - loss: 0.2407 - accuracy: 0.9707 - val_loss: 0.5090 - val_accuracy: 0.9219\n",
            "Epoch 59/100\n",
            "40/40 [==============================] - 20s 488ms/step - loss: 0.2221 - accuracy: 0.9760 - val_loss: 0.6115 - val_accuracy: 0.8906\n",
            "Epoch 60/100\n",
            "40/40 [==============================] - 19s 475ms/step - loss: 0.2636 - accuracy: 0.9623 - val_loss: 0.5090 - val_accuracy: 0.9375\n",
            "Epoch 61/100\n",
            "40/40 [==============================] - 20s 493ms/step - loss: 0.2496 - accuracy: 0.9657 - val_loss: 0.5907 - val_accuracy: 0.8750\n",
            "Epoch 62/100\n",
            "40/40 [==============================] - 19s 474ms/step - loss: 0.2370 - accuracy: 0.9696 - val_loss: 0.4167 - val_accuracy: 0.8906\n",
            "Epoch 63/100\n",
            "40/40 [==============================] - 20s 491ms/step - loss: 0.2543 - accuracy: 0.9648 - val_loss: 0.4933 - val_accuracy: 0.9062\n",
            "Epoch 64/100\n",
            "40/40 [==============================] - 19s 476ms/step - loss: 0.2257 - accuracy: 0.9783 - val_loss: 0.4906 - val_accuracy: 0.9062\n",
            "Epoch 65/100\n",
            "40/40 [==============================] - 19s 476ms/step - loss: 0.2402 - accuracy: 0.9786 - val_loss: 0.5007 - val_accuracy: 0.9062\n",
            "Epoch 66/100\n",
            "40/40 [==============================] - 19s 481ms/step - loss: 0.2172 - accuracy: 0.9809 - val_loss: 0.8641 - val_accuracy: 0.8750\n",
            "Epoch 67/100\n",
            "40/40 [==============================] - 19s 481ms/step - loss: 0.2115 - accuracy: 0.9803 - val_loss: 0.5535 - val_accuracy: 0.8438\n",
            "Epoch 68/100\n",
            "40/40 [==============================] - 19s 473ms/step - loss: 0.2561 - accuracy: 0.9584 - val_loss: 0.3885 - val_accuracy: 0.9062\n",
            "Epoch 69/100\n",
            "40/40 [==============================] - 19s 480ms/step - loss: 0.2641 - accuracy: 0.9704 - val_loss: 0.5671 - val_accuracy: 0.9062\n",
            "Epoch 70/100\n",
            "40/40 [==============================] - 19s 467ms/step - loss: 0.2414 - accuracy: 0.9777 - val_loss: 0.3757 - val_accuracy: 0.8906\n",
            "Epoch 71/100\n",
            "40/40 [==============================] - 19s 483ms/step - loss: 0.2632 - accuracy: 0.9668 - val_loss: 0.3406 - val_accuracy: 0.9375\n",
            "Epoch 72/100\n",
            "40/40 [==============================] - 19s 475ms/step - loss: 0.2290 - accuracy: 0.9764 - val_loss: 0.8854 - val_accuracy: 0.8438\n",
            "Epoch 73/100\n",
            "40/40 [==============================] - 20s 492ms/step - loss: 0.2538 - accuracy: 0.9712 - val_loss: 0.3601 - val_accuracy: 0.9219\n",
            "Epoch 74/100\n",
            "40/40 [==============================] - 19s 476ms/step - loss: 0.2578 - accuracy: 0.9689 - val_loss: 0.2773 - val_accuracy: 0.9531\n",
            "Epoch 75/100\n",
            "40/40 [==============================] - 20s 486ms/step - loss: 0.2171 - accuracy: 0.9833 - val_loss: 0.3155 - val_accuracy: 0.9219\n",
            "Epoch 76/100\n",
            "40/40 [==============================] - 19s 476ms/step - loss: 0.2315 - accuracy: 0.9821 - val_loss: 0.5577 - val_accuracy: 0.8906\n",
            "Epoch 77/100\n",
            "40/40 [==============================] - 19s 473ms/step - loss: 0.2333 - accuracy: 0.9735 - val_loss: 0.2422 - val_accuracy: 0.9531\n",
            "Epoch 78/100\n",
            "40/40 [==============================] - 19s 480ms/step - loss: 0.2252 - accuracy: 0.9761 - val_loss: 0.4041 - val_accuracy: 0.9219\n",
            "Epoch 79/100\n",
            "40/40 [==============================] - 19s 482ms/step - loss: 0.2081 - accuracy: 0.9882 - val_loss: 0.4722 - val_accuracy: 0.9219\n",
            "Epoch 80/100\n",
            "40/40 [==============================] - 19s 475ms/step - loss: 0.2437 - accuracy: 0.9602 - val_loss: 0.7956 - val_accuracy: 0.8906\n",
            "Epoch 81/100\n",
            "40/40 [==============================] - 20s 487ms/step - loss: 0.2592 - accuracy: 0.9643 - val_loss: 0.6187 - val_accuracy: 0.8906\n",
            "Epoch 82/100\n",
            "40/40 [==============================] - 19s 477ms/step - loss: 0.2254 - accuracy: 0.9804 - val_loss: 0.6568 - val_accuracy: 0.8750\n",
            "Epoch 83/100\n",
            "40/40 [==============================] - 20s 488ms/step - loss: 0.2421 - accuracy: 0.9696 - val_loss: 0.3678 - val_accuracy: 0.9219\n",
            "Epoch 84/100\n",
            "40/40 [==============================] - 19s 472ms/step - loss: 0.2076 - accuracy: 0.9855 - val_loss: 0.5400 - val_accuracy: 0.9219\n",
            "Epoch 85/100\n",
            "40/40 [==============================] - 20s 487ms/step - loss: 0.2508 - accuracy: 0.9702 - val_loss: 0.6007 - val_accuracy: 0.9062\n",
            "Epoch 86/100\n",
            "40/40 [==============================] - 19s 477ms/step - loss: 0.2363 - accuracy: 0.9726 - val_loss: 0.4920 - val_accuracy: 0.8750\n",
            "Epoch 87/100\n",
            "40/40 [==============================] - 19s 475ms/step - loss: 0.2328 - accuracy: 0.9731 - val_loss: 0.4666 - val_accuracy: 0.9062\n",
            "Epoch 88/100\n",
            "40/40 [==============================] - 19s 487ms/step - loss: 0.2280 - accuracy: 0.9857 - val_loss: 0.7055 - val_accuracy: 0.8750\n",
            "Epoch 89/100\n",
            "40/40 [==============================] - 20s 486ms/step - loss: 0.2376 - accuracy: 0.9739 - val_loss: 0.5658 - val_accuracy: 0.9375\n",
            "Epoch 90/100\n",
            "40/40 [==============================] - 19s 477ms/step - loss: 0.2723 - accuracy: 0.9625 - val_loss: 0.4843 - val_accuracy: 0.9219\n",
            "Epoch 91/100\n",
            "40/40 [==============================] - 19s 485ms/step - loss: 0.2306 - accuracy: 0.9817 - val_loss: 0.3775 - val_accuracy: 0.9531\n",
            "Epoch 92/100\n",
            "40/40 [==============================] - 19s 475ms/step - loss: 0.2214 - accuracy: 0.9779 - val_loss: 0.3682 - val_accuracy: 0.9375\n",
            "Epoch 93/100\n",
            "40/40 [==============================] - 20s 492ms/step - loss: 0.2465 - accuracy: 0.9634 - val_loss: 0.5650 - val_accuracy: 0.9062\n",
            "Epoch 94/100\n",
            "40/40 [==============================] - 19s 476ms/step - loss: 0.2286 - accuracy: 0.9772 - val_loss: 0.6477 - val_accuracy: 0.8906\n",
            "Epoch 95/100\n",
            "40/40 [==============================] - 20s 491ms/step - loss: 0.2438 - accuracy: 0.9737 - val_loss: 0.3784 - val_accuracy: 0.9219\n",
            "Epoch 96/100\n",
            "40/40 [==============================] - 19s 478ms/step - loss: 0.2421 - accuracy: 0.9801 - val_loss: 0.7372 - val_accuracy: 0.9219\n",
            "Epoch 97/100\n",
            "40/40 [==============================] - 19s 469ms/step - loss: 0.2456 - accuracy: 0.9796 - val_loss: 0.5415 - val_accuracy: 0.9062\n",
            "Epoch 98/100\n",
            "40/40 [==============================] - 20s 490ms/step - loss: 0.2466 - accuracy: 0.9727 - val_loss: 0.6980 - val_accuracy: 0.8594\n",
            "Epoch 99/100\n",
            "40/40 [==============================] - 19s 479ms/step - loss: 0.2215 - accuracy: 0.9818 - val_loss: 0.8171 - val_accuracy: 0.8594\n",
            "Epoch 100/100\n",
            "40/40 [==============================] - 20s 490ms/step - loss: 0.2208 - accuracy: 0.9825 - val_loss: 0.5355 - val_accuracy: 0.8906\n"
          ],
          "name": "stdout"
        }
      ]
    },
    {
      "cell_type": "code",
      "metadata": {
        "id": "9U6mZIUmEtwX",
        "colab": {
          "base_uri": "https://localhost:8080/",
          "height": 317
        },
        "outputId": "bb5dbf77-af8e-42ca-99a7-870c2c210f48"
      },
      "source": [
        "print(history.history.keys())\n",
        "# plot model accuracy\n",
        "plt.plot(history.history['accuracy'], label='accuracy')\n",
        "plt.plot(history.history['val_accuracy'], label = 'val_accuracy')\n",
        "plt.xlabel('Epoch')\n",
        "plt.ylabel('Training Accuracy')\n",
        "plt.ylim([0.5, 1])\n",
        "plt.legend(loc='lower right')\n",
        "\n"
      ],
      "execution_count": null,
      "outputs": [
        {
          "output_type": "stream",
          "text": [
            "dict_keys(['loss', 'accuracy', 'val_loss', 'val_accuracy'])\n"
          ],
          "name": "stdout"
        },
        {
          "output_type": "execute_result",
          "data": {
            "text/plain": [
              "<matplotlib.legend.Legend at 0x7f67f75df4d0>"
            ]
          },
          "metadata": {
            "tags": []
          },
          "execution_count": 7
        },
        {
          "output_type": "display_data",
          "data": {
            "image/png": "[encoded data removed]",
            "text/plain": [
              "<Figure size 432x288 with 1 Axes>"
            ]
          },
          "metadata": {
            "tags": [],
            "needs_background": "light"
          }
        }
      ]
    },
    {
      "cell_type": "code",
      "metadata": {
        "id": "vrnuRJmTVncG"
      },
      "source": [
        "# save the model\n",
        "model.save(\"network.h5\")\n"
      ],
      "execution_count": null,
      "outputs": []
    },
    {
      "cell_type": "code",
      "metadata": {
        "colab": {
          "base_uri": "https://localhost:8080/"
        },
        "id": "yxOu-kuDyuv1",
        "outputId": "b12f1bff-7bd2-48ac-b1a7-f34498339673"
      },
      "source": [
        "from sklearn.metrics import classification_report, confusion_matrix\n",
        "Y_pred = model.predict(validation_generator, 464 // 32+1)\n",
        "y_pred = np.argmax(Y_pred, axis=1)\n",
        "print('Confusion Matrix')\n",
        "print(confusion_matrix(validation_generator.classes, y_pred))\n",
        "print('Classification Report')\n",
        "target_names = ['covid', 'normal', 'pneumonia']\n",
        "print(classification_report(validation_generator.classes, y_pred, target_names=target_names))"
      ],
      "execution_count": null,
      "outputs": [
        {
          "output_type": "stream",
          "text": [
            "Confusion Matrix\n",
            "[[131   6   3]\n",
            " [  0 152   4]\n",
            " [  1   0 167]]\n",
            "Classification Report\n",
            "              precision    recall  f1-score   support\n",
            "\n",
            "       covid       0.99      0.94      0.96       140\n",
            "      normal       0.96      0.97      0.97       156\n",
            "   pneumonia       0.96      0.99      0.98       168\n",
            "\n",
            "    accuracy                           0.97       464\n",
            "   macro avg       0.97      0.97      0.97       464\n",
            "weighted avg       0.97      0.97      0.97       464\n",
            "\n"
          ],
          "name": "stdout"
        }
      ]
    }
  ]
}