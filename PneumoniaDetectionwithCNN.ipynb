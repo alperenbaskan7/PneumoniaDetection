{
  "nbformat": 4,
  "nbformat_minor": 0,
  "metadata": {
    "colab": {
      "name": "PneumoniaDetectionwithCNN.ipynb ",
      "provenance": [],
      "collapsed_sections": []
    },
    "kernelspec": {
      "name": "python3",
      "display_name": "Python 3"
    },
    "language_info": {
      "name": "python"
    },
    "accelerator": "GPU"
  },
  "cells": [
    {
      "cell_type": "code",
      "metadata": {
        "id": "LseMdfP9uh8d"
      },
      "source": [
        "import numpy as np\n",
        "import matplotlib.pyplot as plt\n",
        "import keras\n",
        "from keras.layers import *\n",
        "from keras.preprocessing import image\n",
        "from keras.models import Sequential\n",
        "from keras.optimizers import SGD\n"
      ],
      "execution_count": null,
      "outputs": []
    },
    {
      "cell_type": "code",
      "metadata": {
        "id": "5B_tI-47BZMo",
        "colab": {
          "base_uri": "https://localhost:8080/"
        },
        "outputId": "d5d4b3b3-6e9a-4964-d2fd-2408efeb7705"
      },
      "source": [
        "# convolution, dropout and max pool. layers added\n",
        "opt = SGD(learning_rate = 0.001)\n",
        "model = Sequential()\n",
        "model.add(Conv2D(32, (3, 3), input_shape=(256, 256, 3),padding = 'same'))\n",
        "model.add(Activation('relu'))\n",
        "model.add(MaxPooling2D(pool_size=(2, 2)))\n",
        "\n",
        "model.add(Conv2D(64, (3, 3),padding = 'same'))\n",
        "model.add(Activation('relu'))\n",
        "model.add(MaxPooling2D(pool_size=(2, 2)))\n",
        "\n",
        "model.add(Conv2D(128, (3, 3),padding = 'same'))\n",
        "model.add(Activation('relu'))\n",
        "model.add(MaxPooling2D(pool_size=(2, 2)))\n",
        "\n",
        "model.add(Conv2D(256, (3, 3),padding = 'same'))\n",
        "model.add(Activation('relu'))\n",
        "model.add(MaxPooling2D(pool_size=(2, 2)))\n",
        "\n",
        "from keras import regularizers\n",
        "\n",
        "model.add(Flatten())\n",
        "model.add(Dropout(0.5))\n",
        "model.add(Dense(512,kernel_regularizer=regularizers.l2(1e-4)))\n",
        "model.add(Activation('relu'))\n",
        "model.add(Dropout(0.5))\n",
        "# the final classification is done via fully connected layers\n",
        "model.add(Dense(3))\n",
        "model.add(Activation('softmax'))\n",
        "model.summary()\n",
        "# categorical crossentropy is used since there are 3 classes\n",
        "model.compile(loss = 'categorical_crossentropy',\n",
        "              optimizer = 'Adam',\n",
        "              metrics = ['accuracy'])\n",
        "\n",
        "\n"
      ],
      "execution_count": null,
      "outputs": [
        {
          "output_type": "stream",
          "text": [
            "Model: \"sequential\"\n",
            "_________________________________________________________________\n",
            "Layer (type)                 Output Shape              Param #   \n",
            "=================================================================\n",
            "conv2d (Conv2D)              (None, 256, 256, 32)      896       \n",
            "_________________________________________________________________\n",
            "activation (Activation)      (None, 256, 256, 32)      0         \n",
            "_________________________________________________________________\n",
            "max_pooling2d (MaxPooling2D) (None, 128, 128, 32)      0         \n",
            "_________________________________________________________________\n",
            "conv2d_1 (Conv2D)            (None, 128, 128, 64)      18496     \n",
            "_________________________________________________________________\n",
            "activation_1 (Activation)    (None, 128, 128, 64)      0         \n",
            "_________________________________________________________________\n",
            "max_pooling2d_1 (MaxPooling2 (None, 64, 64, 64)        0         \n",
            "_________________________________________________________________\n",
            "conv2d_2 (Conv2D)            (None, 64, 64, 128)       73856     \n",
            "_________________________________________________________________\n",
            "activation_2 (Activation)    (None, 64, 64, 128)       0         \n",
            "_________________________________________________________________\n",
            "max_pooling2d_2 (MaxPooling2 (None, 32, 32, 128)       0         \n",
            "_________________________________________________________________\n",
            "conv2d_3 (Conv2D)            (None, 32, 32, 256)       295168    \n",
            "_________________________________________________________________\n",
            "activation_3 (Activation)    (None, 32, 32, 256)       0         \n",
            "_________________________________________________________________\n",
            "max_pooling2d_3 (MaxPooling2 (None, 16, 16, 256)       0         \n",
            "_________________________________________________________________\n",
            "flatten (Flatten)            (None, 65536)             0         \n",
            "_________________________________________________________________\n",
            "dropout (Dropout)            (None, 65536)             0         \n",
            "_________________________________________________________________\n",
            "dense (Dense)                (None, 512)               33554944  \n",
            "_________________________________________________________________\n",
            "activation_4 (Activation)    (None, 512)               0         \n",
            "_________________________________________________________________\n",
            "dropout_1 (Dropout)          (None, 512)               0         \n",
            "_________________________________________________________________\n",
            "dense_1 (Dense)              (None, 3)                 1539      \n",
            "_________________________________________________________________\n",
            "activation_5 (Activation)    (None, 3)                 0         \n",
            "=================================================================\n",
            "Total params: 33,944,899\n",
            "Trainable params: 33,944,899\n",
            "Non-trainable params: 0\n",
            "_________________________________________________________________\n"
          ],
          "name": "stdout"
        }
      ]
    },
    {
      "cell_type": "code",
      "metadata": {
        "id": "9exTJpCNDbCl"
      },
      "source": [
        "# image preprocessing \n",
        "train_datagen = image.ImageDataGenerator(\n",
        "      rescale=1./256,\n",
        "      shear_range=0.1, #0.2\n",
        "      zoom_range=0.1, #0.2\n",
        "      horizontal_flip=True,\n",
        "      )\n",
        "test_dataset = image.ImageDataGenerator(rescale=1./256)"
      ],
      "execution_count": null,
      "outputs": []
    },
    {
      "cell_type": "code",
      "metadata": {
        "id": "omdEjJ9uDhNE",
        "colab": {
          "base_uri": "https://localhost:8080/"
        },
        "outputId": "38e96c1b-422e-455d-86b3-25a5151ae7d7"
      },
      "source": [
        "#Take the path to a directory\n",
        "train_generator = train_datagen.flow_from_directory(\n",
        "    '/content/drive/MyDrive/dataset/training/',\n",
        "    target_size = (256,256),\n",
        "    color_mode = 'rgb',\n",
        "    batch_size = 32, \n",
        "    class_mode= 'categorical'\n",
        ")"
      ],
      "execution_count": null,
      "outputs": [
        {
          "output_type": "stream",
          "text": [
            "Found 10615 images belonging to 3 classes.\n"
          ],
          "name": "stdout"
        }
      ]
    },
    {
      "cell_type": "code",
      "metadata": {
        "id": "eNKzNm1NDjld",
        "colab": {
          "base_uri": "https://localhost:8080/"
        },
        "outputId": "ccfefe98-0b92-4081-da84-d88d47e13569"
      },
      "source": [
        "train_generator.class_indices"
      ],
      "execution_count": null,
      "outputs": [
        {
          "output_type": "execute_result",
          "data": {
            "text/plain": [
              "{'covid': 0, 'normal': 1, 'pneumonia': 2}"
            ]
          },
          "metadata": {
            "tags": []
          },
          "execution_count": 5
        }
      ]
    },
    {
      "cell_type": "code",
      "metadata": {
        "id": "m1-oTCkfDlJG",
        "colab": {
          "base_uri": "https://localhost:8080/"
        },
        "outputId": "19ef26e0-bf9f-486c-9564-a022539fb10e"
      },
      "source": [
        "# take validation path to a directory\n",
        "validation_generator = test_dataset.flow_from_directory(\n",
        "    '/content/drive/MyDrive/dataset/validation/',\n",
        "    target_size = (256,256),\n",
        "    batch_size = 32, \n",
        "    class_mode = 'categorical'\n",
        ")\n",
        "\n",
        "\n",
        "STEP_SIZE_TRAIN=train_generator.n//train_generator.batch_size\n",
        "STEP_SIZE_VALID=validation_generator.n//validation_generator.batch_size\n",
        "\n",
        "#Configure the model for training\n",
        "history = model.fit(train_generator,\n",
        "                    steps_per_epoch=89, \n",
        "                    validation_data=validation_generator,\n",
        "                    validation_steps=3, \n",
        "                    epochs=100,\n",
        "         )\n"
      ],
      "execution_count": null,
      "outputs": [
        {
          "output_type": "stream",
          "text": [
            "Found 4535 images belonging to 3 classes.\n",
            "Epoch 1/100\n",
            "89/89 [==============================] - 898s 10s/step - loss: 1.4397 - accuracy: 0.6451 - val_loss: 0.7431 - val_accuracy: 0.6875\n",
            "Epoch 2/100\n",
            "89/89 [==============================] - 638s 7s/step - loss: 0.6333 - accuracy: 0.7383 - val_loss: 0.5840 - val_accuracy: 0.7812\n",
            "Epoch 3/100\n",
            "89/89 [==============================] - 502s 6s/step - loss: 0.5516 - accuracy: 0.7794 - val_loss: 0.6446 - val_accuracy: 0.7396\n",
            "Epoch 4/100\n",
            "89/89 [==============================] - 372s 4s/step - loss: 0.5027 - accuracy: 0.8195 - val_loss: 0.6369 - val_accuracy: 0.7500\n",
            "Epoch 5/100\n",
            "89/89 [==============================] - 291s 3s/step - loss: 0.4935 - accuracy: 0.8154 - val_loss: 0.4713 - val_accuracy: 0.7917\n",
            "Epoch 6/100\n",
            "89/89 [==============================] - 242s 3s/step - loss: 0.4581 - accuracy: 0.8467 - val_loss: 0.5211 - val_accuracy: 0.8021\n",
            "Epoch 7/100\n",
            "89/89 [==============================] - 188s 2s/step - loss: 0.4316 - accuracy: 0.8644 - val_loss: 0.5044 - val_accuracy: 0.8021\n",
            "Epoch 8/100\n",
            "89/89 [==============================] - 149s 2s/step - loss: 0.4254 - accuracy: 0.8605 - val_loss: 0.5014 - val_accuracy: 0.8646\n",
            "Epoch 9/100\n",
            "89/89 [==============================] - 132s 1s/step - loss: 0.4249 - accuracy: 0.8609 - val_loss: 0.3936 - val_accuracy: 0.8750\n",
            "Epoch 10/100\n",
            "89/89 [==============================] - 109s 1s/step - loss: 0.3926 - accuracy: 0.8807 - val_loss: 0.3562 - val_accuracy: 0.8750\n",
            "Epoch 11/100\n",
            "89/89 [==============================] - 102s 1s/step - loss: 0.3975 - accuracy: 0.8890 - val_loss: 0.4366 - val_accuracy: 0.8646\n",
            "Epoch 12/100\n",
            "89/89 [==============================] - 95s 1s/step - loss: 0.3776 - accuracy: 0.8884 - val_loss: 0.5054 - val_accuracy: 0.8333\n",
            "Epoch 13/100\n",
            "89/89 [==============================] - 80s 900ms/step - loss: 0.4072 - accuracy: 0.8814 - val_loss: 0.3444 - val_accuracy: 0.9167\n",
            "Epoch 14/100\n",
            "89/89 [==============================] - 81s 917ms/step - loss: 0.3623 - accuracy: 0.9008 - val_loss: 0.4110 - val_accuracy: 0.8333\n",
            "Epoch 15/100\n",
            "89/89 [==============================] - 78s 885ms/step - loss: 0.4001 - accuracy: 0.8827 - val_loss: 0.2919 - val_accuracy: 0.9062\n",
            "Epoch 16/100\n",
            "89/89 [==============================] - 80s 898ms/step - loss: 0.3462 - accuracy: 0.9123 - val_loss: 0.4176 - val_accuracy: 0.8958\n",
            "Epoch 17/100\n",
            "89/89 [==============================] - 67s 754ms/step - loss: 0.3541 - accuracy: 0.9128 - val_loss: 0.4650 - val_accuracy: 0.8438\n",
            "Epoch 18/100\n",
            "89/89 [==============================] - 67s 759ms/step - loss: 0.3694 - accuracy: 0.9125 - val_loss: 0.4514 - val_accuracy: 0.8021\n",
            "Epoch 19/100\n",
            "89/89 [==============================] - 65s 731ms/step - loss: 0.3694 - accuracy: 0.9074 - val_loss: 0.3379 - val_accuracy: 0.8750\n",
            "Epoch 20/100\n",
            "89/89 [==============================] - 64s 719ms/step - loss: 0.3417 - accuracy: 0.9160 - val_loss: 0.4473 - val_accuracy: 0.8229\n",
            "Epoch 21/100\n",
            "89/89 [==============================] - 67s 750ms/step - loss: 0.3529 - accuracy: 0.9193 - val_loss: 0.5266 - val_accuracy: 0.8750\n",
            "Epoch 22/100\n",
            "89/89 [==============================] - 61s 688ms/step - loss: 0.3472 - accuracy: 0.9130 - val_loss: 0.4382 - val_accuracy: 0.8542\n",
            "Epoch 23/100\n",
            "89/89 [==============================] - 63s 712ms/step - loss: 0.3708 - accuracy: 0.9176 - val_loss: 0.4695 - val_accuracy: 0.8646\n",
            "Epoch 24/100\n",
            "89/89 [==============================] - 63s 711ms/step - loss: 0.3321 - accuracy: 0.9253 - val_loss: 0.3374 - val_accuracy: 0.9062\n",
            "Epoch 25/100\n",
            "89/89 [==============================] - 66s 745ms/step - loss: 0.3591 - accuracy: 0.9096 - val_loss: 0.3039 - val_accuracy: 0.9375\n",
            "Epoch 26/100\n",
            "89/89 [==============================] - 61s 685ms/step - loss: 0.3424 - accuracy: 0.9181 - val_loss: 0.2909 - val_accuracy: 0.9375\n",
            "Epoch 27/100\n",
            "89/89 [==============================] - 60s 672ms/step - loss: 0.3545 - accuracy: 0.9153 - val_loss: 0.4458 - val_accuracy: 0.8958\n",
            "Epoch 28/100\n",
            "89/89 [==============================] - 58s 655ms/step - loss: 0.3076 - accuracy: 0.9366 - val_loss: 0.3829 - val_accuracy: 0.9271\n",
            "Epoch 29/100\n",
            "89/89 [==============================] - 59s 666ms/step - loss: 0.3339 - accuracy: 0.9300 - val_loss: 0.3026 - val_accuracy: 0.9167\n",
            "Epoch 30/100\n",
            "89/89 [==============================] - 60s 672ms/step - loss: 0.3362 - accuracy: 0.9298 - val_loss: 0.4877 - val_accuracy: 0.8750\n",
            "Epoch 31/100\n",
            "89/89 [==============================] - 56s 633ms/step - loss: 0.3428 - accuracy: 0.9284 - val_loss: 0.3345 - val_accuracy: 0.9167\n",
            "Epoch 32/100\n",
            "89/89 [==============================] - 58s 655ms/step - loss: 0.2993 - accuracy: 0.9413 - val_loss: 0.2961 - val_accuracy: 0.9375\n",
            "Epoch 33/100\n",
            "89/89 [==============================] - 59s 666ms/step - loss: 0.3204 - accuracy: 0.9384 - val_loss: 0.2928 - val_accuracy: 0.9062\n",
            "Epoch 34/100\n",
            "89/89 [==============================] - 57s 636ms/step - loss: 0.3380 - accuracy: 0.9290 - val_loss: 0.3501 - val_accuracy: 0.8958\n",
            "Epoch 35/100\n",
            "89/89 [==============================] - 54s 604ms/step - loss: 0.3197 - accuracy: 0.9352 - val_loss: 0.3938 - val_accuracy: 0.8750\n",
            "Epoch 36/100\n",
            "89/89 [==============================] - 55s 621ms/step - loss: 0.3196 - accuracy: 0.9400 - val_loss: 0.3557 - val_accuracy: 0.9375\n",
            "Epoch 37/100\n",
            "89/89 [==============================] - 56s 631ms/step - loss: 0.3008 - accuracy: 0.9396 - val_loss: 0.2737 - val_accuracy: 0.9375\n",
            "Epoch 38/100\n",
            "89/89 [==============================] - 55s 614ms/step - loss: 0.3123 - accuracy: 0.9391 - val_loss: 0.4740 - val_accuracy: 0.8854\n",
            "Epoch 39/100\n",
            "89/89 [==============================] - 54s 612ms/step - loss: 0.2942 - accuracy: 0.9444 - val_loss: 0.3157 - val_accuracy: 0.9167\n",
            "Epoch 40/100\n",
            "89/89 [==============================] - 55s 618ms/step - loss: 0.3376 - accuracy: 0.9281 - val_loss: 0.3126 - val_accuracy: 0.9479\n",
            "Epoch 41/100\n",
            "89/89 [==============================] - 56s 631ms/step - loss: 0.3173 - accuracy: 0.9443 - val_loss: 0.3216 - val_accuracy: 0.9271\n",
            "Epoch 42/100\n",
            "89/89 [==============================] - 56s 630ms/step - loss: 0.2968 - accuracy: 0.9464 - val_loss: 0.2676 - val_accuracy: 0.9688\n",
            "Epoch 43/100\n",
            "89/89 [==============================] - 54s 608ms/step - loss: 0.2986 - accuracy: 0.9457 - val_loss: 0.2697 - val_accuracy: 0.9375\n",
            "Epoch 44/100\n",
            "89/89 [==============================] - 54s 610ms/step - loss: 0.3034 - accuracy: 0.9416 - val_loss: 0.3067 - val_accuracy: 0.9479\n",
            "Epoch 45/100\n",
            "89/89 [==============================] - 54s 607ms/step - loss: 0.2971 - accuracy: 0.9486 - val_loss: 0.2853 - val_accuracy: 0.9271\n",
            "Epoch 46/100\n",
            "89/89 [==============================] - 52s 588ms/step - loss: 0.2703 - accuracy: 0.9554 - val_loss: 0.2550 - val_accuracy: 0.9375\n",
            "Epoch 47/100\n",
            "89/89 [==============================] - 54s 606ms/step - loss: 0.2729 - accuracy: 0.9533 - val_loss: 0.3121 - val_accuracy: 0.9167\n",
            "Epoch 48/100\n",
            "89/89 [==============================] - 51s 569ms/step - loss: 0.3033 - accuracy: 0.9421 - val_loss: 0.3541 - val_accuracy: 0.9167\n",
            "Epoch 49/100\n",
            "89/89 [==============================] - 52s 587ms/step - loss: 0.2987 - accuracy: 0.9550 - val_loss: 0.2617 - val_accuracy: 0.9479\n",
            "Epoch 50/100\n",
            "89/89 [==============================] - 50s 563ms/step - loss: 0.2928 - accuracy: 0.9494 - val_loss: 0.4231 - val_accuracy: 0.8542\n",
            "Epoch 51/100\n",
            "89/89 [==============================] - 55s 619ms/step - loss: 0.2909 - accuracy: 0.9449 - val_loss: 0.2365 - val_accuracy: 0.9688\n",
            "Epoch 52/100\n",
            "89/89 [==============================] - 48s 544ms/step - loss: 0.2695 - accuracy: 0.9517 - val_loss: 0.3676 - val_accuracy: 0.9479\n",
            "Epoch 53/100\n",
            "89/89 [==============================] - 50s 560ms/step - loss: 0.2608 - accuracy: 0.9558 - val_loss: 0.3402 - val_accuracy: 0.9583\n",
            "Epoch 54/100\n",
            "89/89 [==============================] - 50s 562ms/step - loss: 0.2760 - accuracy: 0.9508 - val_loss: 0.4745 - val_accuracy: 0.8229\n",
            "Epoch 55/100\n",
            "89/89 [==============================] - 52s 580ms/step - loss: 0.2822 - accuracy: 0.9483 - val_loss: 0.3557 - val_accuracy: 0.9062\n",
            "Epoch 56/100\n",
            "89/89 [==============================] - 53s 594ms/step - loss: 0.2726 - accuracy: 0.9554 - val_loss: 0.3502 - val_accuracy: 0.9271\n",
            "Epoch 57/100\n",
            "89/89 [==============================] - 52s 580ms/step - loss: 0.2674 - accuracy: 0.9553 - val_loss: 0.3148 - val_accuracy: 0.9167\n",
            "Epoch 58/100\n",
            "89/89 [==============================] - 52s 581ms/step - loss: 0.2951 - accuracy: 0.9428 - val_loss: 0.2443 - val_accuracy: 0.9792\n",
            "Epoch 59/100\n",
            "89/89 [==============================] - 51s 574ms/step - loss: 0.2747 - accuracy: 0.9567 - val_loss: 0.2974 - val_accuracy: 0.9583\n",
            "Epoch 60/100\n",
            "89/89 [==============================] - 49s 545ms/step - loss: 0.2837 - accuracy: 0.9528 - val_loss: 0.2633 - val_accuracy: 0.9792\n",
            "Epoch 61/100\n",
            "89/89 [==============================] - 52s 579ms/step - loss: 0.2727 - accuracy: 0.9574 - val_loss: 0.2300 - val_accuracy: 0.9583\n",
            "Epoch 62/100\n",
            "89/89 [==============================] - 50s 566ms/step - loss: 0.2793 - accuracy: 0.9595 - val_loss: 0.3433 - val_accuracy: 0.9479\n",
            "Epoch 63/100\n",
            "89/89 [==============================] - 48s 539ms/step - loss: 0.2689 - accuracy: 0.9587 - val_loss: 0.2704 - val_accuracy: 0.9688\n",
            "Epoch 64/100\n",
            "89/89 [==============================] - 51s 574ms/step - loss: 0.2580 - accuracy: 0.9605 - val_loss: 0.2416 - val_accuracy: 0.9688\n",
            "Epoch 65/100\n",
            "89/89 [==============================] - 50s 557ms/step - loss: 0.2561 - accuracy: 0.9573 - val_loss: 0.1876 - val_accuracy: 1.0000\n",
            "Epoch 66/100\n",
            "89/89 [==============================] - 49s 554ms/step - loss: 0.2619 - accuracy: 0.9587 - val_loss: 0.4037 - val_accuracy: 0.9271\n",
            "Epoch 67/100\n",
            "89/89 [==============================] - 48s 539ms/step - loss: 0.2958 - accuracy: 0.9435 - val_loss: 0.3450 - val_accuracy: 0.9583\n",
            "Epoch 68/100\n",
            "89/89 [==============================] - 50s 558ms/step - loss: 0.2704 - accuracy: 0.9559 - val_loss: 0.3246 - val_accuracy: 0.9583\n",
            "Epoch 69/100\n",
            "89/89 [==============================] - 47s 533ms/step - loss: 0.2741 - accuracy: 0.9589 - val_loss: 0.2703 - val_accuracy: 0.9583\n",
            "Epoch 70/100\n",
            "89/89 [==============================] - 49s 547ms/step - loss: 0.2828 - accuracy: 0.9504 - val_loss: 0.4126 - val_accuracy: 0.9062\n",
            "Epoch 71/100\n",
            "89/89 [==============================] - 49s 550ms/step - loss: 0.2825 - accuracy: 0.9471 - val_loss: 0.4860 - val_accuracy: 0.9062\n",
            "Epoch 72/100\n",
            "89/89 [==============================] - 49s 545ms/step - loss: 0.2858 - accuracy: 0.9482 - val_loss: 0.2517 - val_accuracy: 0.9688\n",
            "Epoch 73/100\n",
            "89/89 [==============================] - 47s 524ms/step - loss: 0.2809 - accuracy: 0.9530 - val_loss: 0.2973 - val_accuracy: 0.9167\n",
            "Epoch 74/100\n",
            "89/89 [==============================] - 48s 534ms/step - loss: 0.2839 - accuracy: 0.9555 - val_loss: 0.3130 - val_accuracy: 0.9375\n",
            "Epoch 75/100\n",
            "89/89 [==============================] - 49s 555ms/step - loss: 0.2808 - accuracy: 0.9545 - val_loss: 0.2811 - val_accuracy: 0.9375\n",
            "Epoch 76/100\n",
            "89/89 [==============================] - 47s 534ms/step - loss: 0.2869 - accuracy: 0.9422 - val_loss: 0.3331 - val_accuracy: 0.9271\n",
            "Epoch 77/100\n",
            "89/89 [==============================] - 48s 537ms/step - loss: 0.2879 - accuracy: 0.9560 - val_loss: 0.2712 - val_accuracy: 0.9583\n",
            "Epoch 78/100\n",
            "89/89 [==============================] - 47s 527ms/step - loss: 0.2539 - accuracy: 0.9628 - val_loss: 0.3111 - val_accuracy: 0.9062\n",
            "Epoch 79/100\n",
            "89/89 [==============================] - 48s 535ms/step - loss: 0.2623 - accuracy: 0.9579 - val_loss: 0.2775 - val_accuracy: 0.9583\n",
            "Epoch 80/100\n",
            "89/89 [==============================] - 46s 518ms/step - loss: 0.2606 - accuracy: 0.9603 - val_loss: 0.2445 - val_accuracy: 0.9479\n",
            "Epoch 81/100\n",
            "89/89 [==============================] - 47s 533ms/step - loss: 0.2332 - accuracy: 0.9702 - val_loss: 0.2513 - val_accuracy: 0.9688\n",
            "Epoch 82/100\n",
            "89/89 [==============================] - 47s 531ms/step - loss: 0.2819 - accuracy: 0.9551 - val_loss: 0.6579 - val_accuracy: 0.8854\n",
            "Epoch 83/100\n",
            "89/89 [==============================] - 46s 522ms/step - loss: 0.2545 - accuracy: 0.9591 - val_loss: 0.3409 - val_accuracy: 0.9271\n",
            "Epoch 84/100\n",
            "89/89 [==============================] - 49s 553ms/step - loss: 0.2643 - accuracy: 0.9600 - val_loss: 0.3275 - val_accuracy: 0.9479\n",
            "Epoch 85/100\n",
            "89/89 [==============================] - 47s 526ms/step - loss: 0.2867 - accuracy: 0.9488 - val_loss: 0.2769 - val_accuracy: 0.9479\n",
            "Epoch 86/100\n",
            "89/89 [==============================] - 45s 509ms/step - loss: 0.2600 - accuracy: 0.9609 - val_loss: 0.3624 - val_accuracy: 0.9167\n",
            "Epoch 87/100\n",
            "89/89 [==============================] - 45s 510ms/step - loss: 0.2567 - accuracy: 0.9634 - val_loss: 0.2751 - val_accuracy: 0.9688\n",
            "Epoch 88/100\n",
            "89/89 [==============================] - 47s 523ms/step - loss: 0.2749 - accuracy: 0.9550 - val_loss: 0.2012 - val_accuracy: 0.9896\n",
            "Epoch 89/100\n",
            "89/89 [==============================] - 47s 528ms/step - loss: 0.2568 - accuracy: 0.9618 - val_loss: 0.1832 - val_accuracy: 1.0000\n",
            "Epoch 90/100\n",
            "89/89 [==============================] - 46s 512ms/step - loss: 0.2441 - accuracy: 0.9658 - val_loss: 0.4773 - val_accuracy: 0.8750\n",
            "Epoch 91/100\n",
            "89/89 [==============================] - 46s 517ms/step - loss: 0.2453 - accuracy: 0.9665 - val_loss: 0.2320 - val_accuracy: 0.9792\n",
            "Epoch 92/100\n",
            "89/89 [==============================] - 46s 517ms/step - loss: 0.2641 - accuracy: 0.9612 - val_loss: 0.2930 - val_accuracy: 0.9583\n",
            "Epoch 93/100\n",
            "89/89 [==============================] - 45s 506ms/step - loss: 0.2542 - accuracy: 0.9638 - val_loss: 0.4525 - val_accuracy: 0.8958\n",
            "Epoch 94/100\n",
            "89/89 [==============================] - 47s 533ms/step - loss: 0.2643 - accuracy: 0.9502 - val_loss: 0.2387 - val_accuracy: 0.9688\n",
            "Epoch 95/100\n",
            "89/89 [==============================] - 47s 533ms/step - loss: 0.2460 - accuracy: 0.9630 - val_loss: 0.2596 - val_accuracy: 0.9583\n",
            "Epoch 96/100\n",
            "89/89 [==============================] - 45s 507ms/step - loss: 0.2652 - accuracy: 0.9462 - val_loss: 0.2411 - val_accuracy: 0.9792\n",
            "Epoch 97/100\n",
            "89/89 [==============================] - 44s 498ms/step - loss: 0.2525 - accuracy: 0.9655 - val_loss: 0.2357 - val_accuracy: 0.9688\n",
            "Epoch 98/100\n",
            "89/89 [==============================] - 47s 525ms/step - loss: 0.2423 - accuracy: 0.9648 - val_loss: 0.3490 - val_accuracy: 0.8958\n",
            "Epoch 99/100\n",
            "89/89 [==============================] - 44s 499ms/step - loss: 0.2557 - accuracy: 0.9535 - val_loss: 0.1950 - val_accuracy: 0.9792\n",
            "Epoch 100/100\n",
            "89/89 [==============================] - 45s 509ms/step - loss: 0.2706 - accuracy: 0.9499 - val_loss: 0.2580 - val_accuracy: 0.9375\n"
          ],
          "name": "stdout"
        }
      ]
    },
    {
      "cell_type": "code",
      "metadata": {
        "colab": {
          "base_uri": "https://localhost:8080/",
          "height": 317
        },
        "id": "9U6mZIUmEtwX",
        "outputId": "66e08ce0-d7be-4284-ccab-ed0441d1c684"
      },
      "source": [
        "print(history.history.keys())\n",
        "# plot model accuracy\n",
        "plt.plot(history.history['accuracy'], label='accuracy')\n",
        "plt.plot(history.history['val_accuracy'], label = 'val_accuracy')\n",
        "plt.xlabel('Epoch')\n",
        "plt.ylabel('Training Accuracy')\n",
        "plt.ylim([0.5, 1])\n",
        "plt.legend(loc='lower right')\n",
        "\n"
      ],
      "execution_count": null,
      "outputs": [
        {
          "output_type": "stream",
          "text": [
            "dict_keys(['loss', 'accuracy', 'val_loss', 'val_accuracy'])\n"
          ],
          "name": "stdout"
        },
        {
          "output_type": "execute_result",
          "data": {
            "text/plain": [
              "<matplotlib.legend.Legend at 0x7f9926cd1250>"
            ]
          },
          "metadata": {
            "tags": []
          },
          "execution_count": 7
        },
        {
          "output_type": "display_data",
          "data": {
            "image/png": "[encoded data removed]",
            "text/plain": [
              "<Figure size 432x288 with 1 Axes>"
            ]
          },
          "metadata": {
            "tags": [],
            "needs_background": "light"
          }
        }
      ]
    },
    {
      "cell_type": "code",
      "metadata": {
        "id": "vrnuRJmTVncG"
      },
      "source": [
        "# save the model\n",
        "model.save(\"network.h5\")\n"
      ],
      "execution_count": null,
      "outputs": []
    }
  ]
}