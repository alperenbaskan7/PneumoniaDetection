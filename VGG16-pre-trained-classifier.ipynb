{
  "nbformat": 4,
  "nbformat_minor": 0,
  "metadata": {
    "colab": {
      "name": "FINAL-VGG16-batch-revised16-confusion.ipynb",
      "provenance": [],
      "collapsed_sections": []
    },
    "kernelspec": {
      "name": "python3",
      "display_name": "Python 3"
    },
    "language_info": {
      "name": "python"
    },
    "accelerator": "GPU"
  },
  "cells": [
    {
      "cell_type": "code",
      "metadata": {
        "id": "LseMdfP9uh8d"
      },
      "source": [
        "from keras.layers import Input, Lambda, Dense, Flatten\n",
        "from keras.models import Model\n",
        "from keras.applications.vgg16 import VGG16\n",
        "from keras.applications.vgg16 import preprocess_input\n",
        "from keras.preprocessing import image\n",
        "from keras.preprocessing.image import ImageDataGenerator\n",
        "from keras.models import Sequential\n",
        "import numpy as np\n",
        "from glob import glob\n",
        "import matplotlib.pyplot as plt"
      ],
      "execution_count": null,
      "outputs": []
    },
    {
      "cell_type": "code",
      "metadata": {
        "id": "cpdrzE-M7DIj"
      },
      "source": [
        "IMAGE_SIZE = [224, 224]\n",
        "\n",
        "\n",
        "train_path = '/content/drive/MyDrive/dataset-xgboost/training'\n",
        "valid_path = '/content/drive/MyDrive/dataset-xgboost/validation'"
      ],
      "execution_count": null,
      "outputs": []
    },
    {
      "cell_type": "code",
      "metadata": {
        "id": "H3qRm8DHYAKa",
        "colab": {
          "base_uri": "https://localhost:8080/"
        },
        "outputId": "7f06762f-95d7-4af0-8f0c-c98c752ac7f7"
      },
      "source": [
        "vgg = VGG16(input_shape=IMAGE_SIZE + [3], weights='imagenet', include_top=False)\n",
        "\n",
        "for layer in vgg.layers:\n",
        "  layer.trainable = False"
      ],
      "execution_count": null,
      "outputs": [
        {
          "output_type": "stream",
          "text": [
            "Downloading data from https://storage.googleapis.com/tensorflow/keras-applications/vgg16/vgg16_weights_tf_dim_ordering_tf_kernels_notop.h5\n",
            "58892288/58889256 [==============================] - 1s 0us/step\n",
            "58900480/58889256 [==============================] - 1s 0us/step\n"
          ],
          "name": "stdout"
        }
      ]
    },
    {
      "cell_type": "code",
      "metadata": {
        "id": "hx2IeCTmYFDk"
      },
      "source": [
        "folders = glob('/content/drive/MyDrive/dataset-xgboost/training/*')\n"
      ],
      "execution_count": null,
      "outputs": []
    },
    {
      "cell_type": "code",
      "metadata": {
        "colab": {
          "base_uri": "https://localhost:8080/"
        },
        "id": "tKGE_1JvYo1c",
        "outputId": "d4789be4-5e9c-44cb-cacd-e5b3c9507476"
      },
      "source": [
        "# our layers - you can add more if you want\n",
        "x = Flatten()(vgg.output)\n",
        "# x = Dense(1000, activation='relu')(x)\n",
        "prediction = Dense(len(folders), activation='softmax')(x)\n",
        "\n",
        "# create a model object\n",
        "model = Model(inputs=vgg.input, outputs=prediction)\n",
        "\n",
        "# view the structure of the model\n",
        "model.summary()"
      ],
      "execution_count": null,
      "outputs": [
        {
          "output_type": "stream",
          "text": [
            "Model: \"model\"\n",
            "_________________________________________________________________\n",
            "Layer (type)                 Output Shape              Param #   \n",
            "=================================================================\n",
            "input_1 (InputLayer)         [(None, 224, 224, 3)]     0         \n",
            "_________________________________________________________________\n",
            "block1_conv1 (Conv2D)        (None, 224, 224, 64)      1792      \n",
            "_________________________________________________________________\n",
            "block1_conv2 (Conv2D)        (None, 224, 224, 64)      36928     \n",
            "_________________________________________________________________\n",
            "block1_pool (MaxPooling2D)   (None, 112, 112, 64)      0         \n",
            "_________________________________________________________________\n",
            "block2_conv1 (Conv2D)        (None, 112, 112, 128)     73856     \n",
            "_________________________________________________________________\n",
            "block2_conv2 (Conv2D)        (None, 112, 112, 128)     147584    \n",
            "_________________________________________________________________\n",
            "block2_pool (MaxPooling2D)   (None, 56, 56, 128)       0         \n",
            "_________________________________________________________________\n",
            "block3_conv1 (Conv2D)        (None, 56, 56, 256)       295168    \n",
            "_________________________________________________________________\n",
            "block3_conv2 (Conv2D)        (None, 56, 56, 256)       590080    \n",
            "_________________________________________________________________\n",
            "block3_conv3 (Conv2D)        (None, 56, 56, 256)       590080    \n",
            "_________________________________________________________________\n",
            "block3_pool (MaxPooling2D)   (None, 28, 28, 256)       0         \n",
            "_________________________________________________________________\n",
            "block4_conv1 (Conv2D)        (None, 28, 28, 512)       1180160   \n",
            "_________________________________________________________________\n",
            "block4_conv2 (Conv2D)        (None, 28, 28, 512)       2359808   \n",
            "_________________________________________________________________\n",
            "block4_conv3 (Conv2D)        (None, 28, 28, 512)       2359808   \n",
            "_________________________________________________________________\n",
            "block4_pool (MaxPooling2D)   (None, 14, 14, 512)       0         \n",
            "_________________________________________________________________\n",
            "block5_conv1 (Conv2D)        (None, 14, 14, 512)       2359808   \n",
            "_________________________________________________________________\n",
            "block5_conv2 (Conv2D)        (None, 14, 14, 512)       2359808   \n",
            "_________________________________________________________________\n",
            "block5_conv3 (Conv2D)        (None, 14, 14, 512)       2359808   \n",
            "_________________________________________________________________\n",
            "block5_pool (MaxPooling2D)   (None, 7, 7, 512)         0         \n",
            "_________________________________________________________________\n",
            "flatten (Flatten)            (None, 25088)             0         \n",
            "_________________________________________________________________\n",
            "dense (Dense)                (None, 3)                 75267     \n",
            "=================================================================\n",
            "Total params: 14,789,955\n",
            "Trainable params: 75,267\n",
            "Non-trainable params: 14,714,688\n",
            "_________________________________________________________________\n"
          ],
          "name": "stdout"
        }
      ]
    },
    {
      "cell_type": "code",
      "metadata": {
        "id": "x_wefOpuYp_u"
      },
      "source": [
        "model.compile(\n",
        "  loss='categorical_crossentropy',\n",
        "  optimizer='adam',\n",
        "  metrics=['accuracy']\n",
        ")"
      ],
      "execution_count": null,
      "outputs": []
    },
    {
      "cell_type": "code",
      "metadata": {
        "colab": {
          "base_uri": "https://localhost:8080/"
        },
        "id": "QaCGkrYdYvSU",
        "outputId": "520a8a82-2719-4d07-f72d-e3cda2c09d07"
      },
      "source": [
        "from keras.preprocessing.image import ImageDataGenerator\n",
        "\n",
        "train_datagen = ImageDataGenerator(rescale = 1./255,\n",
        "                                   shear_range = 0.2,\n",
        "                                   zoom_range = 0.2,\n",
        "                                   horizontal_flip = True)\n",
        "\n",
        "test_datagen = ImageDataGenerator(rescale = 1./255)\n",
        "\n",
        "training_set = train_datagen.flow_from_directory('/content/drive/MyDrive/dataset-xgboost/training',\n",
        "                                                 target_size = (224, 224),\n",
        "                                                 batch_size = 16,\n",
        "                                                 class_mode = 'categorical')\n",
        "\n",
        "test_set = test_datagen.flow_from_directory('/content/drive/MyDrive/dataset-xgboost/validation',\n",
        "                                            target_size = (224, 224),\n",
        "                                            batch_size = 16,\n",
        "                                            class_mode = 'categorical',\n",
        "                                            shuffle = False)\n"
      ],
      "execution_count": null,
      "outputs": [
        {
          "output_type": "stream",
          "text": [
            "Found 1263 images belonging to 3 classes.\n",
            "Found 464 images belonging to 3 classes.\n"
          ],
          "name": "stdout"
        }
      ]
    },
    {
      "cell_type": "code",
      "metadata": {
        "colab": {
          "base_uri": "https://localhost:8080/"
        },
        "id": "cGJCIOQ5Y1mU",
        "outputId": "f8212c03-58da-4d21-cb9c-b063a93a5fd4"
      },
      "source": [
        "r = model.fit(\n",
        "  training_set,\n",
        "  validation_data=test_set,\n",
        "  epochs=100,\n",
        "  steps_per_epoch=len(training_set), #10\n",
        "  validation_steps=len(test_set) #2\n",
        ")"
      ],
      "execution_count": null,
      "outputs": [
        {
          "output_type": "stream",
          "text": [
            "Epoch 1/100\n",
            "79/79 [==============================] - 1176s 14s/step - loss: 0.6690 - accuracy: 0.7237 - val_loss: 0.1910 - val_accuracy: 0.9289\n",
            "Epoch 2/100\n",
            "79/79 [==============================] - 24s 305ms/step - loss: 0.2927 - accuracy: 0.8822 - val_loss: 0.1344 - val_accuracy: 0.9440\n",
            "Epoch 3/100\n",
            "79/79 [==============================] - 24s 307ms/step - loss: 0.3272 - accuracy: 0.8942 - val_loss: 0.0632 - val_accuracy: 0.9849\n",
            "Epoch 4/100\n",
            "79/79 [==============================] - 25s 310ms/step - loss: 0.2087 - accuracy: 0.9220 - val_loss: 0.1531 - val_accuracy: 0.9440\n",
            "Epoch 5/100\n",
            "79/79 [==============================] - 25s 312ms/step - loss: 0.1515 - accuracy: 0.9485 - val_loss: 0.0692 - val_accuracy: 0.9763\n",
            "Epoch 6/100\n",
            "79/79 [==============================] - 25s 311ms/step - loss: 0.1668 - accuracy: 0.9398 - val_loss: 0.3767 - val_accuracy: 0.8793\n",
            "Epoch 7/100\n",
            "79/79 [==============================] - 25s 312ms/step - loss: 0.1544 - accuracy: 0.9394 - val_loss: 0.4209 - val_accuracy: 0.8578\n",
            "Epoch 8/100\n",
            "79/79 [==============================] - 25s 315ms/step - loss: 0.3075 - accuracy: 0.9018 - val_loss: 0.0546 - val_accuracy: 0.9806\n",
            "Epoch 9/100\n",
            "79/79 [==============================] - 25s 315ms/step - loss: 0.0980 - accuracy: 0.9673 - val_loss: 0.0522 - val_accuracy: 0.9828\n",
            "Epoch 10/100\n",
            "79/79 [==============================] - 25s 317ms/step - loss: 0.1307 - accuracy: 0.9528 - val_loss: 0.1092 - val_accuracy: 0.9526\n",
            "Epoch 11/100\n",
            "79/79 [==============================] - 25s 316ms/step - loss: 0.0965 - accuracy: 0.9620 - val_loss: 0.0778 - val_accuracy: 0.9677\n",
            "Epoch 12/100\n",
            "79/79 [==============================] - 25s 316ms/step - loss: 0.0962 - accuracy: 0.9666 - val_loss: 0.0212 - val_accuracy: 0.9914\n",
            "Epoch 13/100\n",
            "79/79 [==============================] - 25s 316ms/step - loss: 0.1365 - accuracy: 0.9497 - val_loss: 0.0453 - val_accuracy: 0.9828\n",
            "Epoch 14/100\n",
            "79/79 [==============================] - 25s 316ms/step - loss: 0.0963 - accuracy: 0.9654 - val_loss: 0.1216 - val_accuracy: 0.9569\n",
            "Epoch 15/100\n",
            "79/79 [==============================] - 25s 315ms/step - loss: 0.1105 - accuracy: 0.9603 - val_loss: 0.0486 - val_accuracy: 0.9806\n",
            "Epoch 16/100\n",
            "79/79 [==============================] - 25s 315ms/step - loss: 0.0849 - accuracy: 0.9728 - val_loss: 0.0892 - val_accuracy: 0.9612\n",
            "Epoch 17/100\n",
            "79/79 [==============================] - 25s 316ms/step - loss: 0.0453 - accuracy: 0.9896 - val_loss: 0.0589 - val_accuracy: 0.9720\n",
            "Epoch 18/100\n",
            "79/79 [==============================] - 25s 317ms/step - loss: 0.0807 - accuracy: 0.9676 - val_loss: 0.2468 - val_accuracy: 0.9159\n",
            "Epoch 19/100\n",
            "79/79 [==============================] - 25s 313ms/step - loss: 0.0802 - accuracy: 0.9729 - val_loss: 0.0329 - val_accuracy: 0.9849\n",
            "Epoch 20/100\n",
            "79/79 [==============================] - 25s 314ms/step - loss: 0.0512 - accuracy: 0.9808 - val_loss: 0.0666 - val_accuracy: 0.9763\n",
            "Epoch 21/100\n",
            "79/79 [==============================] - 25s 314ms/step - loss: 0.0594 - accuracy: 0.9857 - val_loss: 0.1860 - val_accuracy: 0.9246\n",
            "Epoch 22/100\n",
            "79/79 [==============================] - 25s 312ms/step - loss: 0.1123 - accuracy: 0.9614 - val_loss: 0.1452 - val_accuracy: 0.9310\n",
            "Epoch 23/100\n",
            "79/79 [==============================] - 25s 314ms/step - loss: 0.0542 - accuracy: 0.9794 - val_loss: 0.0636 - val_accuracy: 0.9763\n",
            "Epoch 24/100\n",
            "79/79 [==============================] - 25s 313ms/step - loss: 0.0721 - accuracy: 0.9738 - val_loss: 0.0847 - val_accuracy: 0.9634\n",
            "Epoch 25/100\n",
            "79/79 [==============================] - 25s 315ms/step - loss: 0.0465 - accuracy: 0.9837 - val_loss: 0.0695 - val_accuracy: 0.9784\n",
            "Epoch 26/100\n",
            "79/79 [==============================] - 25s 314ms/step - loss: 0.0653 - accuracy: 0.9737 - val_loss: 0.0680 - val_accuracy: 0.9784\n",
            "Epoch 27/100\n",
            "79/79 [==============================] - 25s 310ms/step - loss: 0.0458 - accuracy: 0.9851 - val_loss: 0.0503 - val_accuracy: 0.9806\n",
            "Epoch 28/100\n",
            "79/79 [==============================] - 24s 309ms/step - loss: 0.0489 - accuracy: 0.9806 - val_loss: 0.0419 - val_accuracy: 0.9806\n",
            "Epoch 29/100\n",
            "79/79 [==============================] - 24s 309ms/step - loss: 0.0737 - accuracy: 0.9744 - val_loss: 0.0581 - val_accuracy: 0.9741\n",
            "Epoch 30/100\n",
            "79/79 [==============================] - 24s 309ms/step - loss: 0.0434 - accuracy: 0.9849 - val_loss: 0.0368 - val_accuracy: 0.9849\n",
            "Epoch 31/100\n",
            "79/79 [==============================] - 24s 306ms/step - loss: 0.0352 - accuracy: 0.9888 - val_loss: 0.0378 - val_accuracy: 0.9828\n",
            "Epoch 32/100\n",
            "79/79 [==============================] - 24s 308ms/step - loss: 0.0512 - accuracy: 0.9757 - val_loss: 0.0476 - val_accuracy: 0.9806\n",
            "Epoch 33/100\n",
            "79/79 [==============================] - 24s 308ms/step - loss: 0.0381 - accuracy: 0.9867 - val_loss: 0.0475 - val_accuracy: 0.9784\n",
            "Epoch 34/100\n",
            "79/79 [==============================] - 24s 306ms/step - loss: 0.0379 - accuracy: 0.9839 - val_loss: 0.0301 - val_accuracy: 0.9849\n",
            "Epoch 35/100\n",
            "79/79 [==============================] - 24s 305ms/step - loss: 0.0753 - accuracy: 0.9761 - val_loss: 0.1778 - val_accuracy: 0.9332\n",
            "Epoch 36/100\n",
            "79/79 [==============================] - 24s 308ms/step - loss: 0.0436 - accuracy: 0.9854 - val_loss: 0.1161 - val_accuracy: 0.9612\n",
            "Epoch 37/100\n",
            "79/79 [==============================] - 25s 310ms/step - loss: 0.0353 - accuracy: 0.9837 - val_loss: 0.1010 - val_accuracy: 0.9655\n",
            "Epoch 38/100\n",
            "79/79 [==============================] - 24s 308ms/step - loss: 0.0497 - accuracy: 0.9848 - val_loss: 0.0305 - val_accuracy: 0.9892\n",
            "Epoch 39/100\n",
            "79/79 [==============================] - 24s 309ms/step - loss: 0.0329 - accuracy: 0.9903 - val_loss: 0.1670 - val_accuracy: 0.9418\n",
            "Epoch 40/100\n",
            "79/79 [==============================] - 24s 299ms/step - loss: 0.0228 - accuracy: 0.9928 - val_loss: 0.0489 - val_accuracy: 0.9806\n",
            "Epoch 41/100\n",
            "79/79 [==============================] - 24s 298ms/step - loss: 0.0630 - accuracy: 0.9735 - val_loss: 0.0259 - val_accuracy: 0.9892\n",
            "Epoch 42/100\n",
            "79/79 [==============================] - 23s 295ms/step - loss: 0.0455 - accuracy: 0.9844 - val_loss: 0.1612 - val_accuracy: 0.9418\n",
            "Epoch 43/100\n",
            "79/79 [==============================] - 24s 297ms/step - loss: 0.0438 - accuracy: 0.9868 - val_loss: 0.1293 - val_accuracy: 0.9526\n",
            "Epoch 44/100\n",
            "79/79 [==============================] - 24s 297ms/step - loss: 0.0200 - accuracy: 0.9933 - val_loss: 0.1270 - val_accuracy: 0.9526\n",
            "Epoch 45/100\n",
            "79/79 [==============================] - 23s 294ms/step - loss: 0.0594 - accuracy: 0.9779 - val_loss: 0.2015 - val_accuracy: 0.9418\n",
            "Epoch 46/100\n",
            "79/79 [==============================] - 23s 292ms/step - loss: 0.0603 - accuracy: 0.9781 - val_loss: 0.0997 - val_accuracy: 0.9612\n",
            "Epoch 47/100\n",
            "79/79 [==============================] - 23s 295ms/step - loss: 0.0294 - accuracy: 0.9906 - val_loss: 0.1352 - val_accuracy: 0.9634\n",
            "Epoch 48/100\n",
            "79/79 [==============================] - 23s 295ms/step - loss: 0.0302 - accuracy: 0.9913 - val_loss: 0.0541 - val_accuracy: 0.9806\n",
            "Epoch 49/100\n",
            "79/79 [==============================] - 23s 294ms/step - loss: 0.0315 - accuracy: 0.9897 - val_loss: 0.1405 - val_accuracy: 0.9418\n",
            "Epoch 50/100\n",
            "79/79 [==============================] - 23s 294ms/step - loss: 0.0336 - accuracy: 0.9881 - val_loss: 0.0697 - val_accuracy: 0.9741\n",
            "Epoch 51/100\n",
            "79/79 [==============================] - 23s 295ms/step - loss: 0.0192 - accuracy: 0.9926 - val_loss: 0.0347 - val_accuracy: 0.9892\n",
            "Epoch 52/100\n",
            "79/79 [==============================] - 23s 293ms/step - loss: 0.0342 - accuracy: 0.9875 - val_loss: 0.0441 - val_accuracy: 0.9849\n",
            "Epoch 53/100\n",
            "79/79 [==============================] - 23s 292ms/step - loss: 0.0937 - accuracy: 0.9690 - val_loss: 0.1147 - val_accuracy: 0.9612\n",
            "Epoch 54/100\n",
            "79/79 [==============================] - 23s 294ms/step - loss: 0.0211 - accuracy: 0.9950 - val_loss: 0.0682 - val_accuracy: 0.9763\n",
            "Epoch 55/100\n",
            "79/79 [==============================] - 23s 292ms/step - loss: 0.0319 - accuracy: 0.9863 - val_loss: 0.0433 - val_accuracy: 0.9849\n",
            "Epoch 56/100\n",
            "79/79 [==============================] - 23s 293ms/step - loss: 0.0188 - accuracy: 0.9929 - val_loss: 0.1226 - val_accuracy: 0.9634\n",
            "Epoch 57/100\n",
            "79/79 [==============================] - 23s 297ms/step - loss: 0.0356 - accuracy: 0.9863 - val_loss: 0.1623 - val_accuracy: 0.9353\n",
            "Epoch 58/100\n",
            "79/79 [==============================] - 23s 297ms/step - loss: 0.0242 - accuracy: 0.9946 - val_loss: 0.0411 - val_accuracy: 0.9784\n",
            "Epoch 59/100\n",
            "79/79 [==============================] - 23s 292ms/step - loss: 0.0087 - accuracy: 0.9973 - val_loss: 0.1659 - val_accuracy: 0.9504\n",
            "Epoch 60/100\n",
            "79/79 [==============================] - 23s 296ms/step - loss: 0.0494 - accuracy: 0.9809 - val_loss: 0.0349 - val_accuracy: 0.9871\n",
            "Epoch 61/100\n",
            "79/79 [==============================] - 23s 291ms/step - loss: 0.0548 - accuracy: 0.9767 - val_loss: 0.0658 - val_accuracy: 0.9806\n",
            "Epoch 62/100\n",
            "79/79 [==============================] - 23s 290ms/step - loss: 0.0158 - accuracy: 0.9959 - val_loss: 0.0290 - val_accuracy: 0.9849\n",
            "Epoch 63/100\n",
            "79/79 [==============================] - 23s 287ms/step - loss: 0.0330 - accuracy: 0.9901 - val_loss: 0.1411 - val_accuracy: 0.9569\n",
            "Epoch 64/100\n",
            "79/79 [==============================] - 23s 289ms/step - loss: 0.0322 - accuracy: 0.9890 - val_loss: 0.0195 - val_accuracy: 0.9935\n",
            "Epoch 65/100\n",
            "79/79 [==============================] - 23s 288ms/step - loss: 0.0280 - accuracy: 0.9871 - val_loss: 0.1408 - val_accuracy: 0.9547\n",
            "Epoch 66/100\n",
            "79/79 [==============================] - 23s 286ms/step - loss: 0.0281 - accuracy: 0.9917 - val_loss: 0.0561 - val_accuracy: 0.9828\n",
            "Epoch 67/100\n",
            "79/79 [==============================] - 23s 289ms/step - loss: 0.0078 - accuracy: 0.9957 - val_loss: 0.1499 - val_accuracy: 0.9504\n",
            "Epoch 68/100\n",
            "79/79 [==============================] - 23s 287ms/step - loss: 0.0213 - accuracy: 0.9901 - val_loss: 0.0808 - val_accuracy: 0.9741\n",
            "Epoch 69/100\n",
            "79/79 [==============================] - 23s 288ms/step - loss: 0.0111 - accuracy: 0.9952 - val_loss: 0.0736 - val_accuracy: 0.9698\n",
            "Epoch 70/100\n",
            "79/79 [==============================] - 23s 290ms/step - loss: 0.0067 - accuracy: 0.9989 - val_loss: 0.0461 - val_accuracy: 0.9784\n",
            "Epoch 71/100\n",
            "79/79 [==============================] - 23s 291ms/step - loss: 0.0456 - accuracy: 0.9859 - val_loss: 0.1293 - val_accuracy: 0.9634\n",
            "Epoch 72/100\n",
            "79/79 [==============================] - 23s 285ms/step - loss: 0.0138 - accuracy: 0.9963 - val_loss: 0.0498 - val_accuracy: 0.9784\n",
            "Epoch 73/100\n",
            "79/79 [==============================] - 23s 288ms/step - loss: 0.0145 - accuracy: 0.9973 - val_loss: 0.0420 - val_accuracy: 0.9849\n",
            "Epoch 74/100\n",
            "79/79 [==============================] - 23s 289ms/step - loss: 0.0204 - accuracy: 0.9950 - val_loss: 0.2314 - val_accuracy: 0.9353\n",
            "Epoch 75/100\n",
            "79/79 [==============================] - 23s 286ms/step - loss: 0.0745 - accuracy: 0.9722 - val_loss: 0.0452 - val_accuracy: 0.9720\n",
            "Epoch 76/100\n",
            "79/79 [==============================] - 23s 288ms/step - loss: 0.2435 - accuracy: 0.9346 - val_loss: 0.0321 - val_accuracy: 0.9914\n",
            "Epoch 77/100\n",
            "79/79 [==============================] - 23s 288ms/step - loss: 0.0414 - accuracy: 0.9830 - val_loss: 0.0722 - val_accuracy: 0.9720\n",
            "Epoch 78/100\n",
            "79/79 [==============================] - 23s 288ms/step - loss: 0.0142 - accuracy: 0.9915 - val_loss: 0.0363 - val_accuracy: 0.9828\n",
            "Epoch 79/100\n",
            "79/79 [==============================] - 23s 289ms/step - loss: 0.0131 - accuracy: 0.9946 - val_loss: 0.0285 - val_accuracy: 0.9871\n",
            "Epoch 80/100\n",
            "79/79 [==============================] - 24s 303ms/step - loss: 0.0258 - accuracy: 0.9911 - val_loss: 0.1545 - val_accuracy: 0.9547\n",
            "Epoch 81/100\n",
            "79/79 [==============================] - 25s 317ms/step - loss: 0.1233 - accuracy: 0.9626 - val_loss: 0.2599 - val_accuracy: 0.9440\n",
            "Epoch 82/100\n",
            "79/79 [==============================] - 25s 319ms/step - loss: 0.0355 - accuracy: 0.9858 - val_loss: 0.0673 - val_accuracy: 0.9784\n",
            "Epoch 83/100\n",
            "79/79 [==============================] - 25s 321ms/step - loss: 0.0114 - accuracy: 0.9977 - val_loss: 0.1096 - val_accuracy: 0.9720\n",
            "Epoch 84/100\n",
            "79/79 [==============================] - 25s 319ms/step - loss: 0.0162 - accuracy: 0.9958 - val_loss: 0.1023 - val_accuracy: 0.9634\n",
            "Epoch 85/100\n",
            "79/79 [==============================] - 25s 314ms/step - loss: 0.0247 - accuracy: 0.9955 - val_loss: 0.0610 - val_accuracy: 0.9698\n",
            "Epoch 86/100\n",
            "79/79 [==============================] - 24s 309ms/step - loss: 0.0273 - accuracy: 0.9872 - val_loss: 0.0939 - val_accuracy: 0.9720\n",
            "Epoch 87/100\n",
            "79/79 [==============================] - 24s 309ms/step - loss: 0.0248 - accuracy: 0.9902 - val_loss: 0.1149 - val_accuracy: 0.9612\n",
            "Epoch 88/100\n",
            "79/79 [==============================] - 25s 312ms/step - loss: 0.0301 - accuracy: 0.9882 - val_loss: 0.0232 - val_accuracy: 0.9871\n",
            "Epoch 89/100\n",
            "79/79 [==============================] - 25s 311ms/step - loss: 0.0358 - accuracy: 0.9873 - val_loss: 0.2594 - val_accuracy: 0.9440\n",
            "Epoch 90/100\n",
            "79/79 [==============================] - 25s 311ms/step - loss: 0.0228 - accuracy: 0.9897 - val_loss: 0.0390 - val_accuracy: 0.9828\n",
            "Epoch 91/100\n",
            "79/79 [==============================] - 24s 306ms/step - loss: 0.0147 - accuracy: 0.9949 - val_loss: 0.1109 - val_accuracy: 0.9655\n",
            "Epoch 92/100\n",
            "79/79 [==============================] - 24s 306ms/step - loss: 0.0099 - accuracy: 0.9976 - val_loss: 0.1096 - val_accuracy: 0.9677\n",
            "Epoch 93/100\n",
            "79/79 [==============================] - 24s 306ms/step - loss: 0.0213 - accuracy: 0.9939 - val_loss: 0.2010 - val_accuracy: 0.9461\n",
            "Epoch 94/100\n",
            "79/79 [==============================] - 24s 305ms/step - loss: 0.0079 - accuracy: 0.9984 - val_loss: 0.0423 - val_accuracy: 0.9935\n",
            "Epoch 95/100\n",
            "79/79 [==============================] - 24s 306ms/step - loss: 0.0241 - accuracy: 0.9927 - val_loss: 0.0575 - val_accuracy: 0.9849\n",
            "Epoch 96/100\n",
            "79/79 [==============================] - 24s 299ms/step - loss: 0.0157 - accuracy: 0.9931 - val_loss: 0.1116 - val_accuracy: 0.9698\n",
            "Epoch 97/100\n",
            "79/79 [==============================] - 24s 299ms/step - loss: 0.0219 - accuracy: 0.9924 - val_loss: 0.0418 - val_accuracy: 0.9914\n",
            "Epoch 98/100\n",
            "79/79 [==============================] - 24s 301ms/step - loss: 0.0217 - accuracy: 0.9921 - val_loss: 0.0687 - val_accuracy: 0.9806\n",
            "Epoch 99/100\n",
            "79/79 [==============================] - 24s 300ms/step - loss: 0.0090 - accuracy: 0.9970 - val_loss: 0.1184 - val_accuracy: 0.9526\n",
            "Epoch 100/100\n",
            "79/79 [==============================] - 24s 301ms/step - loss: 0.0441 - accuracy: 0.9839 - val_loss: 0.0664 - val_accuracy: 0.9849\n"
          ],
          "name": "stdout"
        }
      ]
    },
    {
      "cell_type": "code",
      "metadata": {
        "id": "l7Qs0sUiY4_8",
        "colab": {
          "base_uri": "https://localhost:8080/",
          "height": 532
        },
        "outputId": "fa3d9517-ae33-4631-f5fc-b7e26d5040c0"
      },
      "source": [
        "plt.plot(r.history['loss'], label='train loss')\n",
        "plt.plot(r.history['val_loss'], label='val loss')\n",
        "plt.legend()\n",
        "plt.show()\n",
        "plt.savefig('LossVal_loss')\n",
        "\n",
        "# accuracies\n",
        "plt.plot(r.history['accuracy'], label='train acc')\n",
        "plt.plot(r.history['val_accuracy'], label='val acc')\n",
        "plt.legend()\n",
        "plt.show()\n",
        "plt.savefig('AccVal_acc')\n"
      ],
      "execution_count": null,
      "outputs": [
        {
          "output_type": "display_data",
          "data": {
            "image/png": "[encoded data removed]",
            "text/plain": [
              "<Figure size 432x288 with 1 Axes>"
            ]
          },
          "metadata": {
            "tags": [],
            "needs_background": "light"
          }
        },
        {
          "output_type": "display_data",
          "data": {
            "image/png": "[encoded data removed]",
            "text/plain": [
              "<Figure size 432x288 with 1 Axes>"
            ]
          },
          "metadata": {
            "tags": [],
            "needs_background": "light"
          }
        },
        {
          "output_type": "display_data",
          "data": {
            "text/plain": [
              "<Figure size 432x288 with 0 Axes>"
            ]
          },
          "metadata": {
            "tags": []
          }
        }
      ]
    },
    {
      "cell_type": "code",
      "metadata": {
        "id": "-wGdO7stIl48",
        "colab": {
          "base_uri": "https://localhost:8080/"
        },
        "outputId": "a0820bea-0637-4385-df82-b83265dd946c"
      },
      "source": [
        "from sklearn.metrics import classification_report, confusion_matrix\n",
        "Y_pred = model.predict(test_set, 464 // 16+1)\n",
        "y_pred = np.argmax(Y_pred, axis=1)\n",
        "print('Confusion Matrix')\n",
        "print(confusion_matrix(test_set.classes, y_pred))\n",
        "print('Classification Report')\n",
        "target_names = ['covid', 'normal', 'pneumonia']\n",
        "print(classification_report(test_set.classes, y_pred, target_names=target_names))"
      ],
      "execution_count": null,
      "outputs": [
        {
          "output_type": "stream",
          "text": [
            "Confusion Matrix\n",
            "[[138   2   0]\n",
            " [  0 156   0]\n",
            " [  0   5 163]]\n",
            "Classification Report\n",
            "              precision    recall  f1-score   support\n",
            "\n",
            "       covid       1.00      0.99      0.99       140\n",
            "      normal       0.96      1.00      0.98       156\n",
            "   pneumonia       1.00      0.97      0.98       168\n",
            "\n",
            "    accuracy                           0.98       464\n",
            "   macro avg       0.99      0.99      0.99       464\n",
            "weighted avg       0.99      0.98      0.98       464\n",
            "\n"
          ],
          "name": "stdout"
        }
      ]
    }
  ]
}